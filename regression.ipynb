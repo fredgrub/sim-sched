{
 "cells": [
  {
   "cell_type": "code",
   "execution_count": 1,
   "id": "4f32430f-67f5-4a0c-a2a7-86cd91230f8a",
   "metadata": {},
   "outputs": [],
   "source": [
    "import numpy as np\n",
    "import scipy.optimize as sp\n",
    "import pandas as pd"
   ]
  },
  {
   "cell_type": "markdown",
   "id": "7e72d54c",
   "metadata": {},
   "source": [
    "# Read the data"
   ]
  },
  {
   "cell_type": "code",
   "execution_count": 2,
   "id": "e21d2097-701b-471c-8e29-1637fa981e1e",
   "metadata": {},
   "outputs": [],
   "source": [
    "columns = ['p', 'q', 'r', 'score']\n",
    "score_dist = pd.read_csv(\"DATA/score-distribution-2.csv\", names=columns)"
   ]
  },
  {
   "cell_type": "markdown",
   "id": "200d5f81",
   "metadata": {},
   "source": [
    "## Reduce p and r size (converting to hours)"
   ]
  },
  {
   "cell_type": "code",
   "execution_count": 3,
   "id": "da33bbd2",
   "metadata": {},
   "outputs": [
    {
     "data": {
      "text/plain": [
       "0       0.032182\n",
       "1       0.046431\n",
       "2       0.040886\n",
       "3       0.039235\n",
       "4       0.040176\n",
       "          ...   \n",
       "7163    0.025382\n",
       "7164    0.024157\n",
       "7165    0.025708\n",
       "7166    0.023454\n",
       "7167    0.023329\n",
       "Name: score, Length: 7168, dtype: float64"
      ]
     },
     "execution_count": 3,
     "metadata": {},
     "output_type": "execute_result"
    }
   ],
   "source": [
    "# Isolate target variable\n",
    "score = score_dist['score'].copy()\n",
    "score"
   ]
  },
  {
   "cell_type": "code",
   "execution_count": 4,
   "id": "50266e27",
   "metadata": {},
   "outputs": [
    {
     "data": {
      "text/html": [
       "<div>\n",
       "<style scoped>\n",
       "    .dataframe tbody tr th:only-of-type {\n",
       "        vertical-align: middle;\n",
       "    }\n",
       "\n",
       "    .dataframe tbody tr th {\n",
       "        vertical-align: top;\n",
       "    }\n",
       "\n",
       "    .dataframe thead th {\n",
       "        text-align: right;\n",
       "    }\n",
       "</style>\n",
       "<table border=\"1\" class=\"dataframe\">\n",
       "  <thead>\n",
       "    <tr style=\"text-align: right;\">\n",
       "      <th></th>\n",
       "      <th>p</th>\n",
       "      <th>q</th>\n",
       "      <th>r</th>\n",
       "    </tr>\n",
       "  </thead>\n",
       "  <tbody>\n",
       "    <tr>\n",
       "      <th>0</th>\n",
       "      <td>2.209722</td>\n",
       "      <td>32</td>\n",
       "      <td>0.734167</td>\n",
       "    </tr>\n",
       "    <tr>\n",
       "      <th>1</th>\n",
       "      <td>5.556944</td>\n",
       "      <td>2</td>\n",
       "      <td>0.856944</td>\n",
       "    </tr>\n",
       "    <tr>\n",
       "      <th>2</th>\n",
       "      <td>0.036667</td>\n",
       "      <td>1</td>\n",
       "      <td>0.858889</td>\n",
       "    </tr>\n",
       "    <tr>\n",
       "      <th>3</th>\n",
       "      <td>0.010000</td>\n",
       "      <td>4</td>\n",
       "      <td>0.861111</td>\n",
       "    </tr>\n",
       "    <tr>\n",
       "      <th>4</th>\n",
       "      <td>2.746389</td>\n",
       "      <td>1</td>\n",
       "      <td>0.866389</td>\n",
       "    </tr>\n",
       "  </tbody>\n",
       "</table>\n",
       "</div>"
      ],
      "text/plain": [
       "          p   q         r\n",
       "0  2.209722  32  0.734167\n",
       "1  5.556944   2  0.856944\n",
       "2  0.036667   1  0.858889\n",
       "3  0.010000   4  0.861111\n",
       "4  2.746389   1  0.866389"
      ]
     },
     "execution_count": 4,
     "metadata": {},
     "output_type": "execute_result"
    }
   ],
   "source": [
    "# Isolate features and convert p and r\n",
    "features = score_dist[['p', 'q', 'r']].copy()\n",
    "for column in ['p', 'r']:\n",
    "    features[column] = features[column] / 3600\n",
    "features.head()"
   ]
  },
  {
   "cell_type": "markdown",
   "id": "f92bf7bf",
   "metadata": {},
   "source": [
    "# Regression with this variables"
   ]
  },
  {
   "cell_type": "code",
   "execution_count": 5,
   "id": "2aa70fc7",
   "metadata": {},
   "outputs": [],
   "source": [
    "from sklearn.linear_model import LinearRegression"
   ]
  },
  {
   "cell_type": "code",
   "execution_count": 6,
   "id": "dd02450e",
   "metadata": {},
   "outputs": [],
   "source": [
    "X = features\n",
    "y = score\n",
    "weights = (features['p'] * features['q'])"
   ]
  },
  {
   "cell_type": "code",
   "execution_count": 9,
   "id": "838a44c3",
   "metadata": {},
   "outputs": [
    {
     "data": {
      "text/plain": [
       "LinearRegression()"
      ]
     },
     "execution_count": 9,
     "metadata": {},
     "output_type": "execute_result"
    }
   ],
   "source": [
    "reg = LinearRegression()\n",
    "reg.fit(X, y, weights)"
   ]
  },
  {
   "cell_type": "code",
   "execution_count": 10,
   "id": "6d781c90",
   "metadata": {},
   "outputs": [
    {
     "data": {
      "text/plain": [
       "array([ 4.95249061e-04,  2.00516225e-05, -3.98840890e-04])"
      ]
     },
     "execution_count": 10,
     "metadata": {},
     "output_type": "execute_result"
    }
   ],
   "source": [
    "reg.coef_"
   ]
  },
  {
   "cell_type": "code",
   "execution_count": 14,
   "id": "2c1f2e8f",
   "metadata": {},
   "outputs": [
    {
     "data": {
      "text/plain": [
       "0.004099777925588293"
      ]
     },
     "execution_count": 14,
     "metadata": {},
     "output_type": "execute_result"
    }
   ],
   "source": [
    "y_pred = reg.predict(X)\n",
    "size = y.shape[0]\n",
    "np.sum(np.absolute(y_pred - y)) / size"
   ]
  },
  {
   "cell_type": "markdown",
   "id": "d2091222",
   "metadata": {},
   "source": [
    "## Old method"
   ]
  },
  {
   "cell_type": "code",
   "execution_count": 12,
   "id": "8af1351a",
   "metadata": {},
   "outputs": [
    {
     "data": {
      "text/plain": [
       "(array([ 3.16688936e-02,  4.47173675e-04,  3.10222313e-05, -5.85829108e-04]),\n",
       " 0.004480199908167914)"
      ]
     },
     "execution_count": 12,
     "metadata": {},
     "output_type": "execute_result"
    }
   ],
   "source": [
    "from polynomials import fit_curve, lin, sqr, cub, qua, qui, sex\n",
    "sigma = 1.0 / weights\n",
    "p = features['p']\n",
    "q = features['q']\n",
    "r = features['r']\n",
    "popt, err = fit_curve(lin, p, q, r, score, sigma)\n",
    "popt, err"
   ]
  },
  {
   "cell_type": "markdown",
   "id": "7aa8de73",
   "metadata": {},
   "source": [
    "The methods are equivalent"
   ]
  },
  {
   "cell_type": "markdown",
   "id": "410a7ce2",
   "metadata": {},
   "source": [
    "## VIF"
   ]
  },
  {
   "cell_type": "code",
   "execution_count": 15,
   "id": "0c3a01fd",
   "metadata": {},
   "outputs": [],
   "source": [
    "from statsmodels.stats.outliers_influence import variance_inflation_factor"
   ]
  },
  {
   "cell_type": "code",
   "execution_count": 17,
   "id": "c5343e7a",
   "metadata": {},
   "outputs": [
    {
     "data": {
      "text/html": [
       "<div>\n",
       "<style scoped>\n",
       "    .dataframe tbody tr th:only-of-type {\n",
       "        vertical-align: middle;\n",
       "    }\n",
       "\n",
       "    .dataframe tbody tr th {\n",
       "        vertical-align: top;\n",
       "    }\n",
       "\n",
       "    .dataframe thead th {\n",
       "        text-align: right;\n",
       "    }\n",
       "</style>\n",
       "<table border=\"1\" class=\"dataframe\">\n",
       "  <thead>\n",
       "    <tr style=\"text-align: right;\">\n",
       "      <th></th>\n",
       "      <th>VIF</th>\n",
       "      <th>variable</th>\n",
       "    </tr>\n",
       "  </thead>\n",
       "  <tbody>\n",
       "    <tr>\n",
       "      <th>0</th>\n",
       "      <td>1.328593</td>\n",
       "      <td>p</td>\n",
       "    </tr>\n",
       "    <tr>\n",
       "      <th>1</th>\n",
       "      <td>1.287783</td>\n",
       "      <td>q</td>\n",
       "    </tr>\n",
       "    <tr>\n",
       "      <th>2</th>\n",
       "      <td>1.216593</td>\n",
       "      <td>r</td>\n",
       "    </tr>\n",
       "  </tbody>\n",
       "</table>\n",
       "</div>"
      ],
      "text/plain": [
       "        VIF variable\n",
       "0  1.328593        p\n",
       "1  1.287783        q\n",
       "2  1.216593        r"
      ]
     },
     "execution_count": 17,
     "metadata": {},
     "output_type": "execute_result"
    }
   ],
   "source": [
    "vif = pd.DataFrame()\n",
    "vif['VIF'] = [variance_inflation_factor(X.values, i) for i in range(X.shape[1])]\n",
    "vif['variable'] = X.columns\n",
    "vif"
   ]
  },
  {
   "cell_type": "code",
   "execution_count": 18,
   "id": "30967e4b",
   "metadata": {},
   "outputs": [
    {
     "data": {
      "image/png": "[encoded data removed]",
      "text/plain": [
       "<Figure size 720x504 with 2 Axes>"
      ]
     },
     "metadata": {
      "needs_background": "light"
     },
     "output_type": "display_data"
    }
   ],
   "source": [
    "import matplotlib.pyplot as plt\n",
    "import seaborn as sns\n",
    "\n",
    "# set figure size\n",
    "plt.figure(figsize=(10,7))\n",
    "\n",
    "# Generate a mask to onlyshow the bottom triangle\n",
    "mask = np.triu(np.ones_like(features.corr(), dtype=bool))\n",
    "\n",
    "# generate heatmap\n",
    "sns.heatmap(features.corr(), annot=True, mask=mask, vmin=-1, vmax=1)\n",
    "plt.title('Correlation Coefficient Of Predictors')\n",
    "plt.show()"
   ]
  },
  {
   "cell_type": "markdown",
   "id": "70d8f18a",
   "metadata": {},
   "source": [
    "# Data normalization (z-score)"
   ]
  },
  {
   "cell_type": "code",
   "execution_count": null,
   "id": "849335fc",
   "metadata": {},
   "outputs": [],
   "source": [
    "score_dist_std = score_dist.copy()\n",
    "\n",
    "# Normalize p, q, r features using the z-score normalization\n",
    "for column in ['p', 'q', 'r']:\n",
    "    mu = score_dist_std[column].mean()\n",
    "    std = score_dist_std[column].std()\n",
    "    score_dist_std[column] = (score_dist_std[column] - mu) / std\n",
    "score_dist_std"
   ]
  },
  {
   "cell_type": "markdown",
   "id": "67374bf8",
   "metadata": {},
   "source": [
    "# Creating the predictors"
   ]
  },
  {
   "cell_type": "code",
   "execution_count": null,
   "id": "1b5bc673",
   "metadata": {},
   "outputs": [],
   "source": [
    "# Quadratic predictors\n",
    "score_dist_std['p2'] = score_dist_std['p']**2\n",
    "score_dist_std['q2'] = score_dist_std['q']**2\n",
    "score_dist_std['r2'] = score_dist_std['r']**2\n",
    "score_dist_std['pq'] = score_dist_std['p']*score_dist_std['q']"
   ]
  },
  {
   "cell_type": "code",
   "execution_count": null,
   "id": "71223c99",
   "metadata": {},
   "outputs": [],
   "source": [
    "# Cubic predictors\n",
    "score_dist_std['p3'] = score_dist_std['p']**3\n",
    "score_dist_std['q3'] = score_dist_std['q']**3\n",
    "score_dist_std['r3'] = score_dist_std['r']**3\n",
    "score_dist_std['p2q'] = (score_dist_std['p']**2)*score_dist_std['q']\n",
    "score_dist_std['pq2'] = score_dist_std['p']*(score_dist_std['q']**2)"
   ]
  },
  {
   "cell_type": "code",
   "execution_count": null,
   "id": "40a86a8f",
   "metadata": {},
   "outputs": [],
   "source": [
    "# Quartic predictors\n",
    "score_dist_std['p4'] = score_dist_std['p']**4\n",
    "score_dist_std['q4'] = score_dist_std['q']**4\n",
    "score_dist_std['r4'] = score_dist_std['r']**4\n",
    "score_dist_std['p3q'] = (score_dist_std['p']**3)*score_dist_std['q']\n",
    "score_dist_std['p2q2'] = (score_dist_std['p']*score_dist_std['q'])**2\n",
    "score_dist_std['pq3'] = score_dist_std['p']*(score_dist_std['q']**3)"
   ]
  },
  {
   "cell_type": "code",
   "execution_count": null,
   "id": "27b641b2",
   "metadata": {},
   "outputs": [],
   "source": [
    "# Quintic predictors\n",
    "score_dist_std['p5'] = score_dist_std['p']**5\n",
    "score_dist_std['q5'] = score_dist_std['q']**5\n",
    "score_dist_std['r5'] = score_dist_std['r']**5\n",
    "score_dist_std['p4q'] = (score_dist_std['p']**4)*score_dist_std['q']\n",
    "score_dist_std['p3q2'] = (score_dist_std['p']**3)*(score_dist_std['q']**2)\n",
    "score_dist_std['p2q3'] = (score_dist_std['p']**2)*(score_dist_std['q']**3)\n",
    "score_dist_std['p4q'] = (score_dist_std['p']**4)*score_dist_std['q']"
   ]
  },
  {
   "cell_type": "code",
   "execution_count": null,
   "id": "130174a7",
   "metadata": {},
   "outputs": [],
   "source": [
    "# Sextic predictors\n",
    "score_dist_std['p6'] = score_dist_std['p']**6\n",
    "score_dist_std['q6'] = score_dist_std['q']**6\n",
    "score_dist_std['r6'] = score_dist_std['r']**6\n",
    "score_dist_std['p5q'] = (score_dist_std['p']**5)*score_dist_std['q']\n",
    "score_dist_std['p4q2'] = (score_dist_std['p']**4)*(score_dist_std['q']**2)\n",
    "score_dist_std['p3q3'] = (score_dist_std['p']**3)*(score_dist_std['q']**3)\n",
    "score_dist_std['p2q4'] = (score_dist_std['p']**2)*(score_dist_std['q']**4)\n",
    "score_dist_std['pq5'] = score_dist_std['p']*(score_dist_std['q']**5)"
   ]
  },
  {
   "cell_type": "code",
   "execution_count": null,
   "id": "ae8f56d1",
   "metadata": {},
   "outputs": [],
   "source": [
    "score_dist_std"
   ]
  },
  {
   "cell_type": "code",
   "execution_count": null,
   "id": "b75840e7",
   "metadata": {},
   "outputs": [],
   "source": [
    "# Move score column to the end\n",
    "column_to_move = score_dist_std.pop(\"score\")\n",
    "score_dist_std.insert(32, \"score\", column_to_move)\n",
    "score_dist_std"
   ]
  },
  {
   "cell_type": "markdown",
   "id": "b03176c2",
   "metadata": {},
   "source": [
    "# Scikit-learn regression"
   ]
  },
  {
   "cell_type": "code",
   "execution_count": null,
   "id": "3aacd00b",
   "metadata": {},
   "outputs": [],
   "source": [
    "from sklearn.linear_model import LinearRegression"
   ]
  },
  {
   "cell_type": "markdown",
   "id": "872363d3",
   "metadata": {},
   "source": [
    "## Linear model"
   ]
  },
  {
   "cell_type": "code",
   "execution_count": null,
   "id": "852306fb",
   "metadata": {},
   "outputs": [],
   "source": [
    "X = score_dist_std[['p', 'q', 'r']]\n",
    "y = score_dist_std['score']\n",
    "# weights = (score_dist_std['p'] * score_dist_std['q'])"
   ]
  },
  {
   "cell_type": "code",
   "execution_count": null,
   "id": "abc62b7c",
   "metadata": {},
   "outputs": [],
   "source": [
    "reg = LinearRegression()\n",
    "reg.fit(X, y)"
   ]
  },
  {
   "cell_type": "code",
   "execution_count": null,
   "id": "19f7391e",
   "metadata": {},
   "outputs": [],
   "source": [
    "y_predict = reg.predict(X)"
   ]
  },
  {
   "cell_type": "code",
   "execution_count": null,
   "id": "4a3b8ec9",
   "metadata": {},
   "outputs": [],
   "source": [
    "np.sum(np.absolute(y_predict - y))"
   ]
  },
  {
   "cell_type": "markdown",
   "id": "ec890d9c",
   "metadata": {},
   "source": [
    "# Standard method"
   ]
  },
  {
   "cell_type": "code",
   "execution_count": null,
   "id": "4419ca9a-5b06-4bbf-8ff3-d40a2046e629",
   "metadata": {},
   "outputs": [],
   "source": [
    "from polynomials import fit_curve, lin, sqr, cub, qua, qui, sex\n",
    "\n",
    "# Compute the weights\n",
    "weights = 1.0 / (score_dist['p'] * score_dist['q'])\n",
    "sigma = pd.Series(weights, name='sigma')\n",
    "\n",
    "p, q, r = score_dist['p'].to_numpy(), score_dist['q'].to_numpy(), score_dist['r'].to_numpy()\n",
    "score = score_dist['score'].to_numpy()\n",
    "sample_weights = sigma.to_numpy()\n",
    "\n",
    "functions = [lin, sqr, cub, qua, qui, sex]\n",
    "\n",
    "path = 'DATA/'\n",
    "files = [\n",
    "    'lin_opt.csv', 'sqr_opt.csv', 'cub_opt.csv',\n",
    "    'qua_opt.csv', 'qui_opt.csv', 'sex_opt.csv']\n",
    "\n",
    "for i in range(len(functions)):\n",
    "    popt, err = fit_curve(functions[i], p, q, r, score, sample_weights)\n",
    "    opt_info = np.append([err], popt)\n",
    "    # print(opt_info)\n",
    "    np.savetxt(path + files[i], opt_info, delimiter=\",\")"
   ]
  }
 ],
 "metadata": {
  "kernelspec": {
   "display_name": "Python 3.9.12 ('sched')",
   "language": "python",
   "name": "python3"
  },
  "language_info": {
   "codemirror_mode": {
    "name": "ipython",
    "version": 3
   },
   "file_extension": ".py",
   "mimetype": "text/x-python",
   "name": "python",
   "nbconvert_exporter": "python",
   "pygments_lexer": "ipython3",
   "version": "3.9.12"
  },
  "vscode": {
   "interpreter": {
    "hash": "8558656173fd5c134605b107ac9d747661c764a417664061aa80d0ec60ca8377"
   }
  }
 },
 "nbformat": 4,
 "nbformat_minor": 5
}
