{
 "cells": [
  {
   "cell_type": "code",
   "execution_count": 2,
   "metadata": {},
   "outputs": [],
   "source": [
    "# Standard imports\n",
    "import numpy as np\n",
    "import pandas as pd\n",
    "import matplotlib.pyplot as plt\n",
    "import seaborn as sns\n",
    "\n",
    "# Regression related stuffs\n",
    "from sklearn.linear_model import LinearRegression\n",
    "from sklearn.metrics import mean_absolute_error, mean_squared_error\n",
    "from sklearn.model_selection import train_test_split\n",
    "\n",
    "# Multicollinearity measure\n",
    "from statsmodels.stats.outliers_influence import variance_inflation_factor"
   ]
  },
  {
   "cell_type": "markdown",
   "metadata": {
    "tags": []
   },
   "source": [
    "# Preprocessing the dataset\n",
    "- Converting p and r from seconds to hours\n",
    "- Create all predictors\n",
    "- Split the dataset into train and test subsets"
   ]
  },
  {
   "cell_type": "code",
   "execution_count": 3,
   "metadata": {},
   "outputs": [
    {
     "data": {
      "text/html": [
       "<div>\n",
       "<style scoped>\n",
       "    .dataframe tbody tr th:only-of-type {\n",
       "        vertical-align: middle;\n",
       "    }\n",
       "\n",
       "    .dataframe tbody tr th {\n",
       "        vertical-align: top;\n",
       "    }\n",
       "\n",
       "    .dataframe thead th {\n",
       "        text-align: right;\n",
       "    }\n",
       "</style>\n",
       "<table border=\"1\" class=\"dataframe\">\n",
       "  <thead>\n",
       "    <tr style=\"text-align: right;\">\n",
       "      <th></th>\n",
       "      <th>p</th>\n",
       "      <th>q</th>\n",
       "      <th>r</th>\n",
       "      <th>score</th>\n",
       "    </tr>\n",
       "  </thead>\n",
       "  <tbody>\n",
       "    <tr>\n",
       "      <th>0</th>\n",
       "      <td>10.0</td>\n",
       "      <td>4.0</td>\n",
       "      <td>27541.0</td>\n",
       "      <td>0.026960</td>\n",
       "    </tr>\n",
       "    <tr>\n",
       "      <th>1</th>\n",
       "      <td>11.0</td>\n",
       "      <td>2.0</td>\n",
       "      <td>27614.0</td>\n",
       "      <td>0.036098</td>\n",
       "    </tr>\n",
       "    <tr>\n",
       "      <th>2</th>\n",
       "      <td>8196.0</td>\n",
       "      <td>8.0</td>\n",
       "      <td>27804.0</td>\n",
       "      <td>0.040375</td>\n",
       "    </tr>\n",
       "    <tr>\n",
       "      <th>3</th>\n",
       "      <td>9272.0</td>\n",
       "      <td>1.0</td>\n",
       "      <td>27834.0</td>\n",
       "      <td>0.039768</td>\n",
       "    </tr>\n",
       "    <tr>\n",
       "      <th>4</th>\n",
       "      <td>24297.0</td>\n",
       "      <td>78.0</td>\n",
       "      <td>27840.0</td>\n",
       "      <td>0.039782</td>\n",
       "    </tr>\n",
       "  </tbody>\n",
       "</table>\n",
       "</div>"
      ],
      "text/plain": [
       "         p     q        r     score\n",
       "0     10.0   4.0  27541.0  0.026960\n",
       "1     11.0   2.0  27614.0  0.036098\n",
       "2   8196.0   8.0  27804.0  0.040375\n",
       "3   9272.0   1.0  27834.0  0.039768\n",
       "4  24297.0  78.0  27840.0  0.039782"
      ]
     },
     "execution_count": 3,
     "metadata": {},
     "output_type": "execute_result"
    }
   ],
   "source": [
    "# Read and merge score-dist-1.csv and score-dist-2.csv\n",
    "columns = ['p', 'q', 'r', 'score']\n",
    "dist1 = pd.read_csv(\"DATA/score-distribution-1.csv\", names=columns)\n",
    "dist2 = pd.read_csv(\"DATA/score-distribution-2.csv\", names=columns)\n",
    "\n",
    "dist = pd.concat([dist1, dist2], ignore_index=True)\n",
    "dist.head()"
   ]
  },
  {
   "cell_type": "code",
   "execution_count": 4,
   "metadata": {},
   "outputs": [
    {
     "data": {
      "text/html": [
       "<div>\n",
       "<style scoped>\n",
       "    .dataframe tbody tr th:only-of-type {\n",
       "        vertical-align: middle;\n",
       "    }\n",
       "\n",
       "    .dataframe tbody tr th {\n",
       "        vertical-align: top;\n",
       "    }\n",
       "\n",
       "    .dataframe thead th {\n",
       "        text-align: right;\n",
       "    }\n",
       "</style>\n",
       "<table border=\"1\" class=\"dataframe\">\n",
       "  <thead>\n",
       "    <tr style=\"text-align: right;\">\n",
       "      <th></th>\n",
       "      <th>p</th>\n",
       "      <th>q</th>\n",
       "      <th>r</th>\n",
       "      <th>score</th>\n",
       "    </tr>\n",
       "  </thead>\n",
       "  <tbody>\n",
       "    <tr>\n",
       "      <th>0</th>\n",
       "      <td>0.002778</td>\n",
       "      <td>4.0</td>\n",
       "      <td>7.650278</td>\n",
       "      <td>0.026960</td>\n",
       "    </tr>\n",
       "    <tr>\n",
       "      <th>1</th>\n",
       "      <td>0.003056</td>\n",
       "      <td>2.0</td>\n",
       "      <td>7.670556</td>\n",
       "      <td>0.036098</td>\n",
       "    </tr>\n",
       "    <tr>\n",
       "      <th>2</th>\n",
       "      <td>2.276667</td>\n",
       "      <td>8.0</td>\n",
       "      <td>7.723333</td>\n",
       "      <td>0.040375</td>\n",
       "    </tr>\n",
       "    <tr>\n",
       "      <th>3</th>\n",
       "      <td>2.575556</td>\n",
       "      <td>1.0</td>\n",
       "      <td>7.731667</td>\n",
       "      <td>0.039768</td>\n",
       "    </tr>\n",
       "    <tr>\n",
       "      <th>4</th>\n",
       "      <td>6.749167</td>\n",
       "      <td>78.0</td>\n",
       "      <td>7.733333</td>\n",
       "      <td>0.039782</td>\n",
       "    </tr>\n",
       "  </tbody>\n",
       "</table>\n",
       "</div>"
      ],
      "text/plain": [
       "          p     q         r     score\n",
       "0  0.002778   4.0  7.650278  0.026960\n",
       "1  0.003056   2.0  7.670556  0.036098\n",
       "2  2.276667   8.0  7.723333  0.040375\n",
       "3  2.575556   1.0  7.731667  0.039768\n",
       "4  6.749167  78.0  7.733333  0.039782"
      ]
     },
     "execution_count": 4,
     "metadata": {},
     "output_type": "execute_result"
    }
   ],
   "source": [
    "# Time conversion (seconds to hours)\n",
    "for column in ['p', 'r']:\n",
    "    dist[column] = dist[column] / 3600 # seconds in one hour\n",
    "dist.head()"
   ]
  },
  {
   "cell_type": "code",
   "execution_count": 5,
   "metadata": {},
   "outputs": [],
   "source": [
    "# Separate features from target\n",
    "features = dist[[\"p\", \"q\", \"r\"]].copy()\n",
    "target = dist[\"score\"].copy()"
   ]
  },
  {
   "cell_type": "code",
   "execution_count": 6,
   "metadata": {},
   "outputs": [
    {
     "data": {
      "text/html": [
       "<div>\n",
       "<style scoped>\n",
       "    .dataframe tbody tr th:only-of-type {\n",
       "        vertical-align: middle;\n",
       "    }\n",
       "\n",
       "    .dataframe tbody tr th {\n",
       "        vertical-align: top;\n",
       "    }\n",
       "\n",
       "    .dataframe thead th {\n",
       "        text-align: right;\n",
       "    }\n",
       "</style>\n",
       "<table border=\"1\" class=\"dataframe\">\n",
       "  <thead>\n",
       "    <tr style=\"text-align: right;\">\n",
       "      <th></th>\n",
       "      <th>p</th>\n",
       "      <th>q</th>\n",
       "      <th>r</th>\n",
       "      <th>p2</th>\n",
       "      <th>q2</th>\n",
       "      <th>r2</th>\n",
       "      <th>pq</th>\n",
       "    </tr>\n",
       "  </thead>\n",
       "  <tbody>\n",
       "    <tr>\n",
       "      <th>0</th>\n",
       "      <td>0.002778</td>\n",
       "      <td>4.0</td>\n",
       "      <td>7.650278</td>\n",
       "      <td>0.000008</td>\n",
       "      <td>16.0</td>\n",
       "      <td>58.526750</td>\n",
       "      <td>0.011111</td>\n",
       "    </tr>\n",
       "    <tr>\n",
       "      <th>1</th>\n",
       "      <td>0.003056</td>\n",
       "      <td>2.0</td>\n",
       "      <td>7.670556</td>\n",
       "      <td>0.000009</td>\n",
       "      <td>4.0</td>\n",
       "      <td>58.837423</td>\n",
       "      <td>0.006111</td>\n",
       "    </tr>\n",
       "    <tr>\n",
       "      <th>2</th>\n",
       "      <td>2.276667</td>\n",
       "      <td>8.0</td>\n",
       "      <td>7.723333</td>\n",
       "      <td>5.183211</td>\n",
       "      <td>64.0</td>\n",
       "      <td>59.649878</td>\n",
       "      <td>18.213333</td>\n",
       "    </tr>\n",
       "    <tr>\n",
       "      <th>3</th>\n",
       "      <td>2.575556</td>\n",
       "      <td>1.0</td>\n",
       "      <td>7.731667</td>\n",
       "      <td>6.633486</td>\n",
       "      <td>1.0</td>\n",
       "      <td>59.778669</td>\n",
       "      <td>2.575556</td>\n",
       "    </tr>\n",
       "    <tr>\n",
       "      <th>4</th>\n",
       "      <td>6.749167</td>\n",
       "      <td>78.0</td>\n",
       "      <td>7.733333</td>\n",
       "      <td>45.551251</td>\n",
       "      <td>6084.0</td>\n",
       "      <td>59.804444</td>\n",
       "      <td>526.435000</td>\n",
       "    </tr>\n",
       "  </tbody>\n",
       "</table>\n",
       "</div>"
      ],
      "text/plain": [
       "          p     q         r         p2      q2         r2          pq\n",
       "0  0.002778   4.0  7.650278   0.000008    16.0  58.526750    0.011111\n",
       "1  0.003056   2.0  7.670556   0.000009     4.0  58.837423    0.006111\n",
       "2  2.276667   8.0  7.723333   5.183211    64.0  59.649878   18.213333\n",
       "3  2.575556   1.0  7.731667   6.633486     1.0  59.778669    2.575556\n",
       "4  6.749167  78.0  7.733333  45.551251  6084.0  59.804444  526.435000"
      ]
     },
     "execution_count": 6,
     "metadata": {},
     "output_type": "execute_result"
    }
   ],
   "source": [
    "# Quadratic terms\n",
    "features[['p2', 'q2', 'r2']] = features[['p', 'q', 'r']]**2\n",
    "features['pq'] = features['p']*features['q']\n",
    "features.head()"
   ]
  },
  {
   "cell_type": "code",
   "execution_count": 7,
   "metadata": {},
   "outputs": [
    {
     "data": {
      "text/html": [
       "<div>\n",
       "<style scoped>\n",
       "    .dataframe tbody tr th:only-of-type {\n",
       "        vertical-align: middle;\n",
       "    }\n",
       "\n",
       "    .dataframe tbody tr th {\n",
       "        vertical-align: top;\n",
       "    }\n",
       "\n",
       "    .dataframe thead th {\n",
       "        text-align: right;\n",
       "    }\n",
       "</style>\n",
       "<table border=\"1\" class=\"dataframe\">\n",
       "  <thead>\n",
       "    <tr style=\"text-align: right;\">\n",
       "      <th></th>\n",
       "      <th>p</th>\n",
       "      <th>q</th>\n",
       "      <th>r</th>\n",
       "      <th>p2</th>\n",
       "      <th>q2</th>\n",
       "      <th>r2</th>\n",
       "      <th>pq</th>\n",
       "      <th>p3</th>\n",
       "      <th>q3</th>\n",
       "      <th>r3</th>\n",
       "      <th>p2q</th>\n",
       "      <th>pq2</th>\n",
       "    </tr>\n",
       "  </thead>\n",
       "  <tbody>\n",
       "    <tr>\n",
       "      <th>0</th>\n",
       "      <td>0.002778</td>\n",
       "      <td>4.0</td>\n",
       "      <td>7.650278</td>\n",
       "      <td>0.000008</td>\n",
       "      <td>16.0</td>\n",
       "      <td>58.526750</td>\n",
       "      <td>0.011111</td>\n",
       "      <td>2.143347e-08</td>\n",
       "      <td>64.0</td>\n",
       "      <td>447.745896</td>\n",
       "      <td>0.000031</td>\n",
       "      <td>0.044444</td>\n",
       "    </tr>\n",
       "    <tr>\n",
       "      <th>1</th>\n",
       "      <td>0.003056</td>\n",
       "      <td>2.0</td>\n",
       "      <td>7.670556</td>\n",
       "      <td>0.000009</td>\n",
       "      <td>4.0</td>\n",
       "      <td>58.837423</td>\n",
       "      <td>0.006111</td>\n",
       "      <td>2.852795e-08</td>\n",
       "      <td>8.0</td>\n",
       "      <td>451.315718</td>\n",
       "      <td>0.000019</td>\n",
       "      <td>0.012222</td>\n",
       "    </tr>\n",
       "    <tr>\n",
       "      <th>2</th>\n",
       "      <td>2.276667</td>\n",
       "      <td>8.0</td>\n",
       "      <td>7.723333</td>\n",
       "      <td>5.183211</td>\n",
       "      <td>64.0</td>\n",
       "      <td>59.649878</td>\n",
       "      <td>18.213333</td>\n",
       "      <td>1.180044e+01</td>\n",
       "      <td>512.0</td>\n",
       "      <td>460.695889</td>\n",
       "      <td>41.465689</td>\n",
       "      <td>145.706667</td>\n",
       "    </tr>\n",
       "    <tr>\n",
       "      <th>3</th>\n",
       "      <td>2.575556</td>\n",
       "      <td>1.0</td>\n",
       "      <td>7.731667</td>\n",
       "      <td>6.633486</td>\n",
       "      <td>1.0</td>\n",
       "      <td>59.778669</td>\n",
       "      <td>2.575556</td>\n",
       "      <td>1.708491e+01</td>\n",
       "      <td>1.0</td>\n",
       "      <td>462.188746</td>\n",
       "      <td>6.633486</td>\n",
       "      <td>2.575556</td>\n",
       "    </tr>\n",
       "    <tr>\n",
       "      <th>4</th>\n",
       "      <td>6.749167</td>\n",
       "      <td>78.0</td>\n",
       "      <td>7.733333</td>\n",
       "      <td>45.551251</td>\n",
       "      <td>6084.0</td>\n",
       "      <td>59.804444</td>\n",
       "      <td>526.435000</td>\n",
       "      <td>3.074330e+02</td>\n",
       "      <td>474552.0</td>\n",
       "      <td>462.487704</td>\n",
       "      <td>3552.997554</td>\n",
       "      <td>41061.930000</td>\n",
       "    </tr>\n",
       "  </tbody>\n",
       "</table>\n",
       "</div>"
      ],
      "text/plain": [
       "          p     q         r         p2      q2         r2          pq  \\\n",
       "0  0.002778   4.0  7.650278   0.000008    16.0  58.526750    0.011111   \n",
       "1  0.003056   2.0  7.670556   0.000009     4.0  58.837423    0.006111   \n",
       "2  2.276667   8.0  7.723333   5.183211    64.0  59.649878   18.213333   \n",
       "3  2.575556   1.0  7.731667   6.633486     1.0  59.778669    2.575556   \n",
       "4  6.749167  78.0  7.733333  45.551251  6084.0  59.804444  526.435000   \n",
       "\n",
       "             p3        q3          r3          p2q           pq2  \n",
       "0  2.143347e-08      64.0  447.745896     0.000031      0.044444  \n",
       "1  2.852795e-08       8.0  451.315718     0.000019      0.012222  \n",
       "2  1.180044e+01     512.0  460.695889    41.465689    145.706667  \n",
       "3  1.708491e+01       1.0  462.188746     6.633486      2.575556  \n",
       "4  3.074330e+02  474552.0  462.487704  3552.997554  41061.930000  "
      ]
     },
     "execution_count": 7,
     "metadata": {},
     "output_type": "execute_result"
    }
   ],
   "source": [
    "# Cubic terms\n",
    "features[['p3', 'q3', 'r3']] = features[['p', 'q', 'r']]**3\n",
    "features['p2q'] = features['p']**2 * features['q']\n",
    "features['pq2'] = features['p'] * features['q']**2\n",
    "features.head()"
   ]
  },
  {
   "cell_type": "code",
   "execution_count": 8,
   "metadata": {},
   "outputs": [
    {
     "data": {
      "text/html": [
       "<div>\n",
       "<style scoped>\n",
       "    .dataframe tbody tr th:only-of-type {\n",
       "        vertical-align: middle;\n",
       "    }\n",
       "\n",
       "    .dataframe tbody tr th {\n",
       "        vertical-align: top;\n",
       "    }\n",
       "\n",
       "    .dataframe thead th {\n",
       "        text-align: right;\n",
       "    }\n",
       "</style>\n",
       "<table border=\"1\" class=\"dataframe\">\n",
       "  <thead>\n",
       "    <tr style=\"text-align: right;\">\n",
       "      <th></th>\n",
       "      <th>p</th>\n",
       "      <th>q</th>\n",
       "      <th>r</th>\n",
       "      <th>p2</th>\n",
       "      <th>q2</th>\n",
       "      <th>r2</th>\n",
       "      <th>pq</th>\n",
       "      <th>p3</th>\n",
       "      <th>q3</th>\n",
       "      <th>r3</th>\n",
       "      <th>p2q</th>\n",
       "      <th>pq2</th>\n",
       "      <th>p4</th>\n",
       "      <th>q4</th>\n",
       "      <th>r4</th>\n",
       "      <th>p3q</th>\n",
       "      <th>p2q2</th>\n",
       "      <th>pq3</th>\n",
       "    </tr>\n",
       "  </thead>\n",
       "  <tbody>\n",
       "    <tr>\n",
       "      <th>0</th>\n",
       "      <td>0.002778</td>\n",
       "      <td>4.0</td>\n",
       "      <td>7.650278</td>\n",
       "      <td>0.000008</td>\n",
       "      <td>16.0</td>\n",
       "      <td>58.526750</td>\n",
       "      <td>0.011111</td>\n",
       "      <td>2.143347e-08</td>\n",
       "      <td>64.0</td>\n",
       "      <td>447.745896</td>\n",
       "      <td>0.000031</td>\n",
       "      <td>0.044444</td>\n",
       "      <td>5.953742e-11</td>\n",
       "      <td>256.0</td>\n",
       "      <td>3425.380475</td>\n",
       "      <td>8.573388e-08</td>\n",
       "      <td>0.000123</td>\n",
       "      <td>1.777778e-01</td>\n",
       "    </tr>\n",
       "    <tr>\n",
       "      <th>1</th>\n",
       "      <td>0.003056</td>\n",
       "      <td>2.0</td>\n",
       "      <td>7.670556</td>\n",
       "      <td>0.000009</td>\n",
       "      <td>4.0</td>\n",
       "      <td>58.837423</td>\n",
       "      <td>0.006111</td>\n",
       "      <td>2.852795e-08</td>\n",
       "      <td>8.0</td>\n",
       "      <td>451.315718</td>\n",
       "      <td>0.000019</td>\n",
       "      <td>0.012222</td>\n",
       "      <td>8.716873e-11</td>\n",
       "      <td>16.0</td>\n",
       "      <td>3461.842290</td>\n",
       "      <td>5.705590e-08</td>\n",
       "      <td>0.000037</td>\n",
       "      <td>2.444444e-02</td>\n",
       "    </tr>\n",
       "    <tr>\n",
       "      <th>2</th>\n",
       "      <td>2.276667</td>\n",
       "      <td>8.0</td>\n",
       "      <td>7.723333</td>\n",
       "      <td>5.183211</td>\n",
       "      <td>64.0</td>\n",
       "      <td>59.649878</td>\n",
       "      <td>18.213333</td>\n",
       "      <td>1.180044e+01</td>\n",
       "      <td>512.0</td>\n",
       "      <td>460.695889</td>\n",
       "      <td>41.465689</td>\n",
       "      <td>145.706667</td>\n",
       "      <td>2.686568e+01</td>\n",
       "      <td>4096.0</td>\n",
       "      <td>3558.107919</td>\n",
       "      <td>9.440355e+01</td>\n",
       "      <td>331.725511</td>\n",
       "      <td>1.165653e+03</td>\n",
       "    </tr>\n",
       "    <tr>\n",
       "      <th>3</th>\n",
       "      <td>2.575556</td>\n",
       "      <td>1.0</td>\n",
       "      <td>7.731667</td>\n",
       "      <td>6.633486</td>\n",
       "      <td>1.0</td>\n",
       "      <td>59.778669</td>\n",
       "      <td>2.575556</td>\n",
       "      <td>1.708491e+01</td>\n",
       "      <td>1.0</td>\n",
       "      <td>462.188746</td>\n",
       "      <td>6.633486</td>\n",
       "      <td>2.575556</td>\n",
       "      <td>4.400314e+01</td>\n",
       "      <td>1.0</td>\n",
       "      <td>3573.489321</td>\n",
       "      <td>1.708491e+01</td>\n",
       "      <td>6.633486</td>\n",
       "      <td>2.575556e+00</td>\n",
       "    </tr>\n",
       "    <tr>\n",
       "      <th>4</th>\n",
       "      <td>6.749167</td>\n",
       "      <td>78.0</td>\n",
       "      <td>7.733333</td>\n",
       "      <td>45.551251</td>\n",
       "      <td>6084.0</td>\n",
       "      <td>59.804444</td>\n",
       "      <td>526.435000</td>\n",
       "      <td>3.074330e+02</td>\n",
       "      <td>474552.0</td>\n",
       "      <td>462.487704</td>\n",
       "      <td>3552.997554</td>\n",
       "      <td>41061.930000</td>\n",
       "      <td>2.074916e+03</td>\n",
       "      <td>37015056.0</td>\n",
       "      <td>3576.571575</td>\n",
       "      <td>2.397977e+04</td>\n",
       "      <td>277133.809225</td>\n",
       "      <td>3.202831e+06</td>\n",
       "    </tr>\n",
       "  </tbody>\n",
       "</table>\n",
       "</div>"
      ],
      "text/plain": [
       "          p     q         r         p2      q2         r2          pq  \\\n",
       "0  0.002778   4.0  7.650278   0.000008    16.0  58.526750    0.011111   \n",
       "1  0.003056   2.0  7.670556   0.000009     4.0  58.837423    0.006111   \n",
       "2  2.276667   8.0  7.723333   5.183211    64.0  59.649878   18.213333   \n",
       "3  2.575556   1.0  7.731667   6.633486     1.0  59.778669    2.575556   \n",
       "4  6.749167  78.0  7.733333  45.551251  6084.0  59.804444  526.435000   \n",
       "\n",
       "             p3        q3          r3          p2q           pq2  \\\n",
       "0  2.143347e-08      64.0  447.745896     0.000031      0.044444   \n",
       "1  2.852795e-08       8.0  451.315718     0.000019      0.012222   \n",
       "2  1.180044e+01     512.0  460.695889    41.465689    145.706667   \n",
       "3  1.708491e+01       1.0  462.188746     6.633486      2.575556   \n",
       "4  3.074330e+02  474552.0  462.487704  3552.997554  41061.930000   \n",
       "\n",
       "             p4          q4           r4           p3q           p2q2  \\\n",
       "0  5.953742e-11       256.0  3425.380475  8.573388e-08       0.000123   \n",
       "1  8.716873e-11        16.0  3461.842290  5.705590e-08       0.000037   \n",
       "2  2.686568e+01      4096.0  3558.107919  9.440355e+01     331.725511   \n",
       "3  4.400314e+01         1.0  3573.489321  1.708491e+01       6.633486   \n",
       "4  2.074916e+03  37015056.0  3576.571575  2.397977e+04  277133.809225   \n",
       "\n",
       "            pq3  \n",
       "0  1.777778e-01  \n",
       "1  2.444444e-02  \n",
       "2  1.165653e+03  \n",
       "3  2.575556e+00  \n",
       "4  3.202831e+06  "
      ]
     },
     "execution_count": 8,
     "metadata": {},
     "output_type": "execute_result"
    }
   ],
   "source": [
    "# Quartic terms\n",
    "features[['p4', 'q4', 'r4']] = features[['p', 'q', 'r']]**4\n",
    "features['p3q'] = features['p']**3 * features['q']\n",
    "features['p2q2'] = features['p']**2 * features['q']**2\n",
    "features['pq3'] = features['p'] * features['q']**3\n",
    "features.head()"
   ]
  },
  {
   "cell_type": "code",
   "execution_count": 9,
   "metadata": {},
   "outputs": [
    {
     "data": {
      "text/html": [
       "<div>\n",
       "<style scoped>\n",
       "    .dataframe tbody tr th:only-of-type {\n",
       "        vertical-align: middle;\n",
       "    }\n",
       "\n",
       "    .dataframe tbody tr th {\n",
       "        vertical-align: top;\n",
       "    }\n",
       "\n",
       "    .dataframe thead th {\n",
       "        text-align: right;\n",
       "    }\n",
       "</style>\n",
       "<table border=\"1\" class=\"dataframe\">\n",
       "  <thead>\n",
       "    <tr style=\"text-align: right;\">\n",
       "      <th></th>\n",
       "      <th>p</th>\n",
       "      <th>q</th>\n",
       "      <th>r</th>\n",
       "      <th>p2</th>\n",
       "      <th>q2</th>\n",
       "      <th>r2</th>\n",
       "      <th>pq</th>\n",
       "      <th>p3</th>\n",
       "      <th>q3</th>\n",
       "      <th>r3</th>\n",
       "      <th>...</th>\n",
       "      <th>p3q</th>\n",
       "      <th>p2q2</th>\n",
       "      <th>pq3</th>\n",
       "      <th>p5</th>\n",
       "      <th>q5</th>\n",
       "      <th>r5</th>\n",
       "      <th>p4q</th>\n",
       "      <th>p3q2</th>\n",
       "      <th>p2q3</th>\n",
       "      <th>pq4</th>\n",
       "    </tr>\n",
       "  </thead>\n",
       "  <tbody>\n",
       "    <tr>\n",
       "      <th>0</th>\n",
       "      <td>0.002778</td>\n",
       "      <td>4.0</td>\n",
       "      <td>7.650278</td>\n",
       "      <td>0.000008</td>\n",
       "      <td>16.0</td>\n",
       "      <td>58.526750</td>\n",
       "      <td>0.011111</td>\n",
       "      <td>2.143347e-08</td>\n",
       "      <td>64.0</td>\n",
       "      <td>447.745896</td>\n",
       "      <td>...</td>\n",
       "      <td>8.573388e-08</td>\n",
       "      <td>0.000123</td>\n",
       "      <td>1.777778e-01</td>\n",
       "      <td>1.653817e-13</td>\n",
       "      <td>1.024000e+03</td>\n",
       "      <td>26205.112125</td>\n",
       "      <td>2.381497e-10</td>\n",
       "      <td>3.429355e-07</td>\n",
       "      <td>4.938272e-04</td>\n",
       "      <td>7.111111e-01</td>\n",
       "    </tr>\n",
       "    <tr>\n",
       "      <th>1</th>\n",
       "      <td>0.003056</td>\n",
       "      <td>2.0</td>\n",
       "      <td>7.670556</td>\n",
       "      <td>0.000009</td>\n",
       "      <td>4.0</td>\n",
       "      <td>58.837423</td>\n",
       "      <td>0.006111</td>\n",
       "      <td>2.852795e-08</td>\n",
       "      <td>8.0</td>\n",
       "      <td>451.315718</td>\n",
       "      <td>...</td>\n",
       "      <td>5.705590e-08</td>\n",
       "      <td>0.000037</td>\n",
       "      <td>2.444444e-02</td>\n",
       "      <td>2.663489e-13</td>\n",
       "      <td>3.200000e+01</td>\n",
       "      <td>26554.253611</td>\n",
       "      <td>1.743375e-10</td>\n",
       "      <td>1.141118e-07</td>\n",
       "      <td>7.469136e-05</td>\n",
       "      <td>4.888889e-02</td>\n",
       "    </tr>\n",
       "    <tr>\n",
       "      <th>2</th>\n",
       "      <td>2.276667</td>\n",
       "      <td>8.0</td>\n",
       "      <td>7.723333</td>\n",
       "      <td>5.183211</td>\n",
       "      <td>64.0</td>\n",
       "      <td>59.649878</td>\n",
       "      <td>18.213333</td>\n",
       "      <td>1.180044e+01</td>\n",
       "      <td>512.0</td>\n",
       "      <td>460.695889</td>\n",
       "      <td>...</td>\n",
       "      <td>9.440355e+01</td>\n",
       "      <td>331.725511</td>\n",
       "      <td>1.165653e+03</td>\n",
       "      <td>6.116419e+01</td>\n",
       "      <td>3.276800e+04</td>\n",
       "      <td>27480.453494</td>\n",
       "      <td>2.149254e+02</td>\n",
       "      <td>7.552284e+02</td>\n",
       "      <td>2.653804e+03</td>\n",
       "      <td>9.325227e+03</td>\n",
       "    </tr>\n",
       "    <tr>\n",
       "      <th>3</th>\n",
       "      <td>2.575556</td>\n",
       "      <td>1.0</td>\n",
       "      <td>7.731667</td>\n",
       "      <td>6.633486</td>\n",
       "      <td>1.0</td>\n",
       "      <td>59.778669</td>\n",
       "      <td>2.575556</td>\n",
       "      <td>1.708491e+01</td>\n",
       "      <td>1.0</td>\n",
       "      <td>462.188746</td>\n",
       "      <td>...</td>\n",
       "      <td>1.708491e+01</td>\n",
       "      <td>6.633486</td>\n",
       "      <td>2.575556e+00</td>\n",
       "      <td>1.133325e+02</td>\n",
       "      <td>1.000000e+00</td>\n",
       "      <td>27629.028263</td>\n",
       "      <td>4.400314e+01</td>\n",
       "      <td>1.708491e+01</td>\n",
       "      <td>6.633486e+00</td>\n",
       "      <td>2.575556e+00</td>\n",
       "    </tr>\n",
       "    <tr>\n",
       "      <th>4</th>\n",
       "      <td>6.749167</td>\n",
       "      <td>78.0</td>\n",
       "      <td>7.733333</td>\n",
       "      <td>45.551251</td>\n",
       "      <td>6084.0</td>\n",
       "      <td>59.804444</td>\n",
       "      <td>526.435000</td>\n",
       "      <td>3.074330e+02</td>\n",
       "      <td>474552.0</td>\n",
       "      <td>462.487704</td>\n",
       "      <td>...</td>\n",
       "      <td>2.397977e+04</td>\n",
       "      <td>277133.809225</td>\n",
       "      <td>3.202831e+06</td>\n",
       "      <td>1.400396e+04</td>\n",
       "      <td>2.887174e+09</td>\n",
       "      <td>27658.820182</td>\n",
       "      <td>1.618435e+05</td>\n",
       "      <td>1.870422e+06</td>\n",
       "      <td>2.161644e+07</td>\n",
       "      <td>2.498208e+08</td>\n",
       "    </tr>\n",
       "  </tbody>\n",
       "</table>\n",
       "<p>5 rows × 25 columns</p>\n",
       "</div>"
      ],
      "text/plain": [
       "          p     q         r         p2      q2         r2          pq  \\\n",
       "0  0.002778   4.0  7.650278   0.000008    16.0  58.526750    0.011111   \n",
       "1  0.003056   2.0  7.670556   0.000009     4.0  58.837423    0.006111   \n",
       "2  2.276667   8.0  7.723333   5.183211    64.0  59.649878   18.213333   \n",
       "3  2.575556   1.0  7.731667   6.633486     1.0  59.778669    2.575556   \n",
       "4  6.749167  78.0  7.733333  45.551251  6084.0  59.804444  526.435000   \n",
       "\n",
       "             p3        q3          r3  ...           p3q           p2q2  \\\n",
       "0  2.143347e-08      64.0  447.745896  ...  8.573388e-08       0.000123   \n",
       "1  2.852795e-08       8.0  451.315718  ...  5.705590e-08       0.000037   \n",
       "2  1.180044e+01     512.0  460.695889  ...  9.440355e+01     331.725511   \n",
       "3  1.708491e+01       1.0  462.188746  ...  1.708491e+01       6.633486   \n",
       "4  3.074330e+02  474552.0  462.487704  ...  2.397977e+04  277133.809225   \n",
       "\n",
       "            pq3            p5            q5            r5           p4q  \\\n",
       "0  1.777778e-01  1.653817e-13  1.024000e+03  26205.112125  2.381497e-10   \n",
       "1  2.444444e-02  2.663489e-13  3.200000e+01  26554.253611  1.743375e-10   \n",
       "2  1.165653e+03  6.116419e+01  3.276800e+04  27480.453494  2.149254e+02   \n",
       "3  2.575556e+00  1.133325e+02  1.000000e+00  27629.028263  4.400314e+01   \n",
       "4  3.202831e+06  1.400396e+04  2.887174e+09  27658.820182  1.618435e+05   \n",
       "\n",
       "           p3q2          p2q3           pq4  \n",
       "0  3.429355e-07  4.938272e-04  7.111111e-01  \n",
       "1  1.141118e-07  7.469136e-05  4.888889e-02  \n",
       "2  7.552284e+02  2.653804e+03  9.325227e+03  \n",
       "3  1.708491e+01  6.633486e+00  2.575556e+00  \n",
       "4  1.870422e+06  2.161644e+07  2.498208e+08  \n",
       "\n",
       "[5 rows x 25 columns]"
      ]
     },
     "execution_count": 9,
     "metadata": {},
     "output_type": "execute_result"
    }
   ],
   "source": [
    "# Quintic terms\n",
    "features[['p5', 'q5', 'r5']] = features[['p', 'q', 'r']]**5\n",
    "features['p4q'] = features['p']**4 * features['q']\n",
    "features['p3q2'] = features['p']**3 * features['q']**2\n",
    "features['p2q3'] = features['p']**2 * features['q']**3\n",
    "features['pq4'] = features['p'] * features['q']**4\n",
    "features.head()"
   ]
  },
  {
   "cell_type": "code",
   "execution_count": 10,
   "metadata": {},
   "outputs": [
    {
     "data": {
      "text/html": [
       "<div>\n",
       "<style scoped>\n",
       "    .dataframe tbody tr th:only-of-type {\n",
       "        vertical-align: middle;\n",
       "    }\n",
       "\n",
       "    .dataframe tbody tr th {\n",
       "        vertical-align: top;\n",
       "    }\n",
       "\n",
       "    .dataframe thead th {\n",
       "        text-align: right;\n",
       "    }\n",
       "</style>\n",
       "<table border=\"1\" class=\"dataframe\">\n",
       "  <thead>\n",
       "    <tr style=\"text-align: right;\">\n",
       "      <th></th>\n",
       "      <th>p</th>\n",
       "      <th>q</th>\n",
       "      <th>r</th>\n",
       "      <th>p2</th>\n",
       "      <th>q2</th>\n",
       "      <th>r2</th>\n",
       "      <th>pq</th>\n",
       "      <th>p3</th>\n",
       "      <th>q3</th>\n",
       "      <th>r3</th>\n",
       "      <th>...</th>\n",
       "      <th>p2q3</th>\n",
       "      <th>pq4</th>\n",
       "      <th>p6</th>\n",
       "      <th>q6</th>\n",
       "      <th>r6</th>\n",
       "      <th>p5q</th>\n",
       "      <th>p4q2</th>\n",
       "      <th>p3q3</th>\n",
       "      <th>p2q4</th>\n",
       "      <th>pq5</th>\n",
       "    </tr>\n",
       "  </thead>\n",
       "  <tbody>\n",
       "    <tr>\n",
       "      <th>0</th>\n",
       "      <td>0.002778</td>\n",
       "      <td>4.0</td>\n",
       "      <td>7.650278</td>\n",
       "      <td>0.000008</td>\n",
       "      <td>16.0</td>\n",
       "      <td>58.526750</td>\n",
       "      <td>0.011111</td>\n",
       "      <td>2.143347e-08</td>\n",
       "      <td>64.0</td>\n",
       "      <td>447.745896</td>\n",
       "      <td>...</td>\n",
       "      <td>4.938272e-04</td>\n",
       "      <td>7.111111e-01</td>\n",
       "      <td>4.593937e-16</td>\n",
       "      <td>4.096000e+03</td>\n",
       "      <td>200476.386956</td>\n",
       "      <td>6.615269e-13</td>\n",
       "      <td>9.525987e-10</td>\n",
       "      <td>1.371742e-06</td>\n",
       "      <td>1.975309e-03</td>\n",
       "      <td>2.844444e+00</td>\n",
       "    </tr>\n",
       "    <tr>\n",
       "      <th>1</th>\n",
       "      <td>0.003056</td>\n",
       "      <td>2.0</td>\n",
       "      <td>7.670556</td>\n",
       "      <td>0.000009</td>\n",
       "      <td>4.0</td>\n",
       "      <td>58.837423</td>\n",
       "      <td>0.006111</td>\n",
       "      <td>2.852795e-08</td>\n",
       "      <td>8.0</td>\n",
       "      <td>451.315718</td>\n",
       "      <td>...</td>\n",
       "      <td>7.469136e-05</td>\n",
       "      <td>4.888889e-02</td>\n",
       "      <td>8.138439e-16</td>\n",
       "      <td>6.400000e+01</td>\n",
       "      <td>203685.877556</td>\n",
       "      <td>5.326978e-13</td>\n",
       "      <td>3.486749e-10</td>\n",
       "      <td>2.282236e-07</td>\n",
       "      <td>1.493827e-04</td>\n",
       "      <td>9.777778e-02</td>\n",
       "    </tr>\n",
       "    <tr>\n",
       "      <th>2</th>\n",
       "      <td>2.276667</td>\n",
       "      <td>8.0</td>\n",
       "      <td>7.723333</td>\n",
       "      <td>5.183211</td>\n",
       "      <td>64.0</td>\n",
       "      <td>59.649878</td>\n",
       "      <td>18.213333</td>\n",
       "      <td>1.180044e+01</td>\n",
       "      <td>512.0</td>\n",
       "      <td>460.695889</td>\n",
       "      <td>...</td>\n",
       "      <td>2.653804e+03</td>\n",
       "      <td>9.325227e+03</td>\n",
       "      <td>1.392505e+02</td>\n",
       "      <td>2.621440e+05</td>\n",
       "      <td>212240.702483</td>\n",
       "      <td>4.893135e+02</td>\n",
       "      <td>1.719403e+03</td>\n",
       "      <td>6.041827e+03</td>\n",
       "      <td>2.123043e+04</td>\n",
       "      <td>7.460181e+04</td>\n",
       "    </tr>\n",
       "    <tr>\n",
       "      <th>3</th>\n",
       "      <td>2.575556</td>\n",
       "      <td>1.0</td>\n",
       "      <td>7.731667</td>\n",
       "      <td>6.633486</td>\n",
       "      <td>1.0</td>\n",
       "      <td>59.778669</td>\n",
       "      <td>2.575556</td>\n",
       "      <td>1.708491e+01</td>\n",
       "      <td>1.0</td>\n",
       "      <td>462.188746</td>\n",
       "      <td>...</td>\n",
       "      <td>6.633486e+00</td>\n",
       "      <td>2.575556e+00</td>\n",
       "      <td>2.918942e+02</td>\n",
       "      <td>1.000000e+00</td>\n",
       "      <td>213618.436856</td>\n",
       "      <td>1.133325e+02</td>\n",
       "      <td>4.400314e+01</td>\n",
       "      <td>1.708491e+01</td>\n",
       "      <td>6.633486e+00</td>\n",
       "      <td>2.575556e+00</td>\n",
       "    </tr>\n",
       "    <tr>\n",
       "      <th>4</th>\n",
       "      <td>6.749167</td>\n",
       "      <td>78.0</td>\n",
       "      <td>7.733333</td>\n",
       "      <td>45.551251</td>\n",
       "      <td>6084.0</td>\n",
       "      <td>59.804444</td>\n",
       "      <td>526.435000</td>\n",
       "      <td>3.074330e+02</td>\n",
       "      <td>474552.0</td>\n",
       "      <td>462.487704</td>\n",
       "      <td>...</td>\n",
       "      <td>2.161644e+07</td>\n",
       "      <td>2.498208e+08</td>\n",
       "      <td>9.451504e+04</td>\n",
       "      <td>2.251996e+11</td>\n",
       "      <td>213894.876077</td>\n",
       "      <td>1.092309e+06</td>\n",
       "      <td>1.262379e+07</td>\n",
       "      <td>1.458929e+08</td>\n",
       "      <td>1.686082e+09</td>\n",
       "      <td>1.948602e+10</td>\n",
       "    </tr>\n",
       "  </tbody>\n",
       "</table>\n",
       "<p>5 rows × 33 columns</p>\n",
       "</div>"
      ],
      "text/plain": [
       "          p     q         r         p2      q2         r2          pq  \\\n",
       "0  0.002778   4.0  7.650278   0.000008    16.0  58.526750    0.011111   \n",
       "1  0.003056   2.0  7.670556   0.000009     4.0  58.837423    0.006111   \n",
       "2  2.276667   8.0  7.723333   5.183211    64.0  59.649878   18.213333   \n",
       "3  2.575556   1.0  7.731667   6.633486     1.0  59.778669    2.575556   \n",
       "4  6.749167  78.0  7.733333  45.551251  6084.0  59.804444  526.435000   \n",
       "\n",
       "             p3        q3          r3  ...          p2q3           pq4  \\\n",
       "0  2.143347e-08      64.0  447.745896  ...  4.938272e-04  7.111111e-01   \n",
       "1  2.852795e-08       8.0  451.315718  ...  7.469136e-05  4.888889e-02   \n",
       "2  1.180044e+01     512.0  460.695889  ...  2.653804e+03  9.325227e+03   \n",
       "3  1.708491e+01       1.0  462.188746  ...  6.633486e+00  2.575556e+00   \n",
       "4  3.074330e+02  474552.0  462.487704  ...  2.161644e+07  2.498208e+08   \n",
       "\n",
       "             p6            q6             r6           p5q          p4q2  \\\n",
       "0  4.593937e-16  4.096000e+03  200476.386956  6.615269e-13  9.525987e-10   \n",
       "1  8.138439e-16  6.400000e+01  203685.877556  5.326978e-13  3.486749e-10   \n",
       "2  1.392505e+02  2.621440e+05  212240.702483  4.893135e+02  1.719403e+03   \n",
       "3  2.918942e+02  1.000000e+00  213618.436856  1.133325e+02  4.400314e+01   \n",
       "4  9.451504e+04  2.251996e+11  213894.876077  1.092309e+06  1.262379e+07   \n",
       "\n",
       "           p3q3          p2q4           pq5  \n",
       "0  1.371742e-06  1.975309e-03  2.844444e+00  \n",
       "1  2.282236e-07  1.493827e-04  9.777778e-02  \n",
       "2  6.041827e+03  2.123043e+04  7.460181e+04  \n",
       "3  1.708491e+01  6.633486e+00  2.575556e+00  \n",
       "4  1.458929e+08  1.686082e+09  1.948602e+10  \n",
       "\n",
       "[5 rows x 33 columns]"
      ]
     },
     "execution_count": 10,
     "metadata": {},
     "output_type": "execute_result"
    }
   ],
   "source": [
    "# Sextic terms\n",
    "features[['p6', 'q6', 'r6']] = features[['p', 'q', 'r']]**6\n",
    "features['p5q'] = features['p']**5 * features['q']\n",
    "features['p4q2'] = features['p']**4 * features['q']**2\n",
    "features['p3q3'] = features['p']**3 * features['q']**3\n",
    "features['p2q4'] = features['p']**2 * features['q']**4\n",
    "features['pq5'] = features['p'] * features['q']**5\n",
    "features.head()"
   ]
  },
  {
   "cell_type": "code",
   "execution_count": 11,
   "metadata": {},
   "outputs": [
    {
     "data": {
      "text/html": [
       "<div>\n",
       "<style scoped>\n",
       "    .dataframe tbody tr th:only-of-type {\n",
       "        vertical-align: middle;\n",
       "    }\n",
       "\n",
       "    .dataframe tbody tr th {\n",
       "        vertical-align: top;\n",
       "    }\n",
       "\n",
       "    .dataframe thead th {\n",
       "        text-align: right;\n",
       "    }\n",
       "</style>\n",
       "<table border=\"1\" class=\"dataframe\">\n",
       "  <thead>\n",
       "    <tr style=\"text-align: right;\">\n",
       "      <th></th>\n",
       "      <th>p</th>\n",
       "      <th>q</th>\n",
       "      <th>r</th>\n",
       "      <th>p2</th>\n",
       "      <th>q2</th>\n",
       "      <th>r2</th>\n",
       "      <th>pq</th>\n",
       "      <th>p3</th>\n",
       "      <th>q3</th>\n",
       "      <th>r3</th>\n",
       "      <th>...</th>\n",
       "      <th>p2q3</th>\n",
       "      <th>pq4</th>\n",
       "      <th>p6</th>\n",
       "      <th>q6</th>\n",
       "      <th>r6</th>\n",
       "      <th>p5q</th>\n",
       "      <th>p4q2</th>\n",
       "      <th>p3q3</th>\n",
       "      <th>p2q4</th>\n",
       "      <th>pq5</th>\n",
       "    </tr>\n",
       "  </thead>\n",
       "  <tbody>\n",
       "    <tr>\n",
       "      <th>7525</th>\n",
       "      <td>2.306389</td>\n",
       "      <td>1.0</td>\n",
       "      <td>2.652778</td>\n",
       "      <td>5.319430</td>\n",
       "      <td>1.0</td>\n",
       "      <td>7.037230</td>\n",
       "      <td>2.306389</td>\n",
       "      <td>1.226867e+01</td>\n",
       "      <td>1.0</td>\n",
       "      <td>18.668207</td>\n",
       "      <td>...</td>\n",
       "      <td>5.319430</td>\n",
       "      <td>2.306389</td>\n",
       "      <td>1.505204e+02</td>\n",
       "      <td>1.000000e+00</td>\n",
       "      <td>3.485020e+02</td>\n",
       "      <td>6.526235e+01</td>\n",
       "      <td>2.829633e+01</td>\n",
       "      <td>12.268674</td>\n",
       "      <td>5.319430</td>\n",
       "      <td>2.306389</td>\n",
       "    </tr>\n",
       "    <tr>\n",
       "      <th>4436</th>\n",
       "      <td>0.022778</td>\n",
       "      <td>16.0</td>\n",
       "      <td>6.095833</td>\n",
       "      <td>0.000519</td>\n",
       "      <td>256.0</td>\n",
       "      <td>37.159184</td>\n",
       "      <td>0.364444</td>\n",
       "      <td>1.181773e-05</td>\n",
       "      <td>4096.0</td>\n",
       "      <td>226.516193</td>\n",
       "      <td>...</td>\n",
       "      <td>2.125116</td>\n",
       "      <td>1492.764444</td>\n",
       "      <td>1.396587e-10</td>\n",
       "      <td>1.677722e+07</td>\n",
       "      <td>5.130959e+04</td>\n",
       "      <td>9.810175e-08</td>\n",
       "      <td>6.891050e-05</td>\n",
       "      <td>0.048405</td>\n",
       "      <td>34.001857</td>\n",
       "      <td>23884.231111</td>\n",
       "    </tr>\n",
       "    <tr>\n",
       "      <th>10113</th>\n",
       "      <td>0.002222</td>\n",
       "      <td>32.0</td>\n",
       "      <td>0.828889</td>\n",
       "      <td>0.000005</td>\n",
       "      <td>1024.0</td>\n",
       "      <td>0.687057</td>\n",
       "      <td>0.071111</td>\n",
       "      <td>1.097394e-08</td>\n",
       "      <td>32768.0</td>\n",
       "      <td>0.569494</td>\n",
       "      <td>...</td>\n",
       "      <td>0.161817</td>\n",
       "      <td>2330.168889</td>\n",
       "      <td>1.204273e-16</td>\n",
       "      <td>1.073742e+09</td>\n",
       "      <td>3.243231e-01</td>\n",
       "      <td>1.734153e-12</td>\n",
       "      <td>2.497180e-08</td>\n",
       "      <td>0.000360</td>\n",
       "      <td>5.178153</td>\n",
       "      <td>74565.404444</td>\n",
       "    </tr>\n",
       "    <tr>\n",
       "      <th>7628</th>\n",
       "      <td>0.032778</td>\n",
       "      <td>1.0</td>\n",
       "      <td>2.151944</td>\n",
       "      <td>0.001074</td>\n",
       "      <td>1.0</td>\n",
       "      <td>4.630865</td>\n",
       "      <td>0.032778</td>\n",
       "      <td>3.521588e-05</td>\n",
       "      <td>1.0</td>\n",
       "      <td>9.965364</td>\n",
       "      <td>...</td>\n",
       "      <td>0.001074</td>\n",
       "      <td>0.032778</td>\n",
       "      <td>1.240158e-09</td>\n",
       "      <td>1.000000e+00</td>\n",
       "      <td>9.930848e+01</td>\n",
       "      <td>3.783533e-08</td>\n",
       "      <td>1.154298e-06</td>\n",
       "      <td>0.000035</td>\n",
       "      <td>0.001074</td>\n",
       "      <td>0.032778</td>\n",
       "    </tr>\n",
       "    <tr>\n",
       "      <th>8059</th>\n",
       "      <td>0.100000</td>\n",
       "      <td>1.0</td>\n",
       "      <td>10.185000</td>\n",
       "      <td>0.010000</td>\n",
       "      <td>1.0</td>\n",
       "      <td>103.734225</td>\n",
       "      <td>0.100000</td>\n",
       "      <td>1.000000e-03</td>\n",
       "      <td>1.0</td>\n",
       "      <td>1056.533082</td>\n",
       "      <td>...</td>\n",
       "      <td>0.010000</td>\n",
       "      <td>0.100000</td>\n",
       "      <td>1.000000e-06</td>\n",
       "      <td>1.000000e+00</td>\n",
       "      <td>1.116262e+06</td>\n",
       "      <td>1.000000e-05</td>\n",
       "      <td>1.000000e-04</td>\n",
       "      <td>0.001000</td>\n",
       "      <td>0.010000</td>\n",
       "      <td>0.100000</td>\n",
       "    </tr>\n",
       "  </tbody>\n",
       "</table>\n",
       "<p>5 rows × 33 columns</p>\n",
       "</div>"
      ],
      "text/plain": [
       "              p     q          r        p2      q2          r2        pq  \\\n",
       "7525   2.306389   1.0   2.652778  5.319430     1.0    7.037230  2.306389   \n",
       "4436   0.022778  16.0   6.095833  0.000519   256.0   37.159184  0.364444   \n",
       "10113  0.002222  32.0   0.828889  0.000005  1024.0    0.687057  0.071111   \n",
       "7628   0.032778   1.0   2.151944  0.001074     1.0    4.630865  0.032778   \n",
       "8059   0.100000   1.0  10.185000  0.010000     1.0  103.734225  0.100000   \n",
       "\n",
       "                 p3       q3           r3  ...      p2q3          pq4  \\\n",
       "7525   1.226867e+01      1.0    18.668207  ...  5.319430     2.306389   \n",
       "4436   1.181773e-05   4096.0   226.516193  ...  2.125116  1492.764444   \n",
       "10113  1.097394e-08  32768.0     0.569494  ...  0.161817  2330.168889   \n",
       "7628   3.521588e-05      1.0     9.965364  ...  0.001074     0.032778   \n",
       "8059   1.000000e-03      1.0  1056.533082  ...  0.010000     0.100000   \n",
       "\n",
       "                 p6            q6            r6           p5q          p4q2  \\\n",
       "7525   1.505204e+02  1.000000e+00  3.485020e+02  6.526235e+01  2.829633e+01   \n",
       "4436   1.396587e-10  1.677722e+07  5.130959e+04  9.810175e-08  6.891050e-05   \n",
       "10113  1.204273e-16  1.073742e+09  3.243231e-01  1.734153e-12  2.497180e-08   \n",
       "7628   1.240158e-09  1.000000e+00  9.930848e+01  3.783533e-08  1.154298e-06   \n",
       "8059   1.000000e-06  1.000000e+00  1.116262e+06  1.000000e-05  1.000000e-04   \n",
       "\n",
       "            p3q3       p2q4           pq5  \n",
       "7525   12.268674   5.319430      2.306389  \n",
       "4436    0.048405  34.001857  23884.231111  \n",
       "10113   0.000360   5.178153  74565.404444  \n",
       "7628    0.000035   0.001074      0.032778  \n",
       "8059    0.001000   0.010000      0.100000  \n",
       "\n",
       "[5 rows x 33 columns]"
      ]
     },
     "execution_count": 11,
     "metadata": {},
     "output_type": "execute_result"
    }
   ],
   "source": [
    "training_features, test_features, training_targets, test_targets = \\\n",
    "    train_test_split(features, target, test_size=0.2, random_state=42)\n",
    "training_features.head()"
   ]
  },
  {
   "cell_type": "markdown",
   "metadata": {
    "tags": []
   },
   "source": [
    "# Multiple Linear Regression"
   ]
  },
  {
   "cell_type": "markdown",
   "metadata": {},
   "source": [
    "## Facilities"
   ]
  },
  {
   "cell_type": "code",
   "execution_count": 14,
   "metadata": {},
   "outputs": [],
   "source": [
    "def run_regression(X, X_test, y, y_test):\n",
    "    # Compute the sample weights: w = p*q\n",
    "    # provides good estimations for large jobs\n",
    "    w = (X['p'] * X['q'])\n",
    "\n",
    "    # Model fit\n",
    "    lreg = LinearRegression()\n",
    "    lreg.fit(X, y, sample_weight=w)\n",
    "\n",
    "    print(f\"Intercept: {lreg.intercept_}\\nCoeficients: {lreg.coef_}\")\n",
    "    \n",
    "    # Predictions in test set\n",
    "    y_predict = lreg.predict(X_test)\n",
    "\n",
    "    # Prediction errors\n",
    "    mae = mean_absolute_error(y_test, y_predict)\n",
    "    mse = mean_squared_error(y_test, y_predict)\n",
    "\n",
    "    print(f\"Mean Absolute Error: {mae}\\nMean Squared Error: {mse}\")"
   ]
  },
  {
   "cell_type": "code",
   "execution_count": 15,
   "metadata": {},
   "outputs": [],
   "source": [
    "def correlation(X, flabel):\n",
    "    # set figure size\n",
    "    plt.figure(figsize=(10,7))\n",
    "\n",
    "    # Generate a mask to onlyshow the bottom triangle\n",
    "    mask = np.triu(np.ones_like(X.corr(), dtype=bool))\n",
    "\n",
    "    # generate heatmap\n",
    "    sns.heatmap(X.corr(), annot=True, mask=mask, vmin=-1, vmax=1)\n",
    "    plt.title('Correlation Coefficient Of Predictors for ' + flabel)\n",
    "    plt.show()"
   ]
  },
  {
   "cell_type": "code",
   "execution_count": 16,
   "metadata": {},
   "outputs": [],
   "source": [
    "def vif(X):\n",
    "    vif = pd.DataFrame()\n",
    "    vif['VIF'] = [variance_inflation_factor(X.values, i) for i in range(X.shape[1])]\n",
    "    vif['feature'] = X.columns\n",
    "    print(vif)"
   ]
  },
  {
   "cell_type": "markdown",
   "metadata": {
    "tags": []
   },
   "source": [
    "## Linear function regression"
   ]
  },
  {
   "cell_type": "code",
   "execution_count": 17,
   "metadata": {},
   "outputs": [
    {
     "name": "stdout",
     "output_type": "stream",
     "text": [
      "Intercept: 0.032247578568287236\n",
      "Coeficients: [ 5.24248737e-04  1.61682411e-05 -4.25473461e-04]\n",
      "Mean Absolute Error: 0.004231719071156759\n",
      "Mean Squared Error: 2.7985211329416176e-05\n"
     ]
    }
   ],
   "source": [
    "lin_features = ['p', 'q', 'r']\n",
    "X_lin_train = training_features[lin_features]\n",
    "X_lin_test = test_features[lin_features]\n",
    "\n",
    "run_regression(X_lin_train, X_lin_test, training_targets, test_targets)"
   ]
  },
  {
   "cell_type": "code",
   "execution_count": 18,
   "metadata": {},
   "outputs": [
    {
     "data": {
      "image/png": "[encoded data removed]",
      "text/plain": [
       "<Figure size 720x504 with 2 Axes>"
      ]
     },
     "metadata": {
      "needs_background": "light"
     },
     "output_type": "display_data"
    }
   ],
   "source": [
    "correlation(X_lin_train, \"Lin function\")"
   ]
  },
  {
   "cell_type": "code",
   "execution_count": 19,
   "metadata": {},
   "outputs": [
    {
     "name": "stdout",
     "output_type": "stream",
     "text": [
      "        VIF feature\n",
      "0  1.322925       p\n",
      "1  1.271269       q\n",
      "2  1.196897       r\n"
     ]
    }
   ],
   "source": [
    "vif(X_lin_train)"
   ]
  },
  {
   "cell_type": "markdown",
   "metadata": {
    "tags": []
   },
   "source": [
    "## Quadratic function regression"
   ]
  },
  {
   "cell_type": "code",
   "execution_count": 20,
   "metadata": {},
   "outputs": [
    {
     "name": "stdout",
     "output_type": "stream",
     "text": [
      "Intercept: 0.034335696489395516\n",
      "Coeficients: [ 5.49192941e-04  5.52856529e-06 -9.87686123e-04 -9.81183659e-06\n",
      "  1.06725323e-08  2.35285729e-05  1.70895013e-06]\n",
      "Mean Absolute Error: 0.004091407834348765\n",
      "Mean Squared Error: 2.531258781988644e-05\n"
     ]
    }
   ],
   "source": [
    "sq_features = [\n",
    "    'p', 'q', 'r',\n",
    "    'p2', 'q2', 'r2', 'pq'\n",
    "    ]\n",
    "X_sq_train = training_features[sq_features]\n",
    "X_sq_test = test_features[sq_features]\n",
    "\n",
    "run_regression(X_sq_train, X_sq_test, training_targets, test_targets)"
   ]
  },
  {
   "cell_type": "code",
   "execution_count": 21,
   "metadata": {},
   "outputs": [
    {
     "data": {
      "image/png": "[encoded data removed]",
      "text/plain": [
       "<Figure size 720x504 with 2 Axes>"
      ]
     },
     "metadata": {
      "needs_background": "light"
     },
     "output_type": "display_data"
    }
   ],
   "source": [
    "correlation(X_sq_train, \"Sq function\")"
   ]
  },
  {
   "cell_type": "code",
   "execution_count": 22,
   "metadata": {},
   "outputs": [
    {
     "name": "stdout",
     "output_type": "stream",
     "text": [
      "        VIF feature\n",
      "0  3.790851       p\n",
      "1  9.663580       q\n",
      "2  6.025501       r\n",
      "3  2.602037      p2\n",
      "4  8.301007      q2\n",
      "5  4.890577      r2\n",
      "6  3.903374      pq\n"
     ]
    }
   ],
   "source": [
    "vif(X_sq_train)"
   ]
  },
  {
   "cell_type": "markdown",
   "metadata": {
    "tags": []
   },
   "source": [
    "## Cubic function regression"
   ]
  },
  {
   "cell_type": "code",
   "execution_count": 23,
   "metadata": {},
   "outputs": [
    {
     "name": "stdout",
     "output_type": "stream",
     "text": [
      "Intercept: 0.03781996606037328\n",
      "Coeficients: [-5.09613078e-05 -2.34855993e-05 -1.73214474e-03  2.02738340e-05\n",
      "  1.08165338e-08  8.48481749e-05  1.23822857e-05 -2.68940831e-07\n",
      "  1.76844551e-10 -1.16392202e-06 -4.26793941e-07 -1.60394373e-08]\n",
      "Mean Absolute Error: 0.003966238784395771\n",
      "Mean Squared Error: 2.4223111550462892e-05\n"
     ]
    }
   ],
   "source": [
    "cub_features = [\n",
    "    'p', 'q', 'r',\n",
    "    'p2', 'q2', 'r2', 'pq',\n",
    "    'p3', 'q3', 'r3', 'p2q', 'pq2'\n",
    "    ]\n",
    "X_cub_train = training_features[cub_features]\n",
    "X_cub_test = test_features[cub_features]\n",
    "\n",
    "run_regression(X_cub_train, X_cub_test, training_targets, test_targets)"
   ]
  },
  {
   "cell_type": "code",
   "execution_count": 24,
   "metadata": {},
   "outputs": [
    {
     "data": {
      "image/png": "[encoded data removed]",
      "text/plain": [
       "<Figure size 720x504 with 2 Axes>"
      ]
     },
     "metadata": {
      "needs_background": "light"
     },
     "output_type": "display_data"
    }
   ],
   "source": [
    "correlation(X_cub_train, \"Cub function\")"
   ]
  },
  {
   "cell_type": "code",
   "execution_count": 25,
   "metadata": {},
   "outputs": [
    {
     "name": "stdout",
     "output_type": "stream",
     "text": [
      "           VIF feature\n",
      "0    12.036588       p\n",
      "1    35.854962       q\n",
      "2    21.969513       r\n",
      "3    41.841529      p2\n",
      "4   276.966581      q2\n",
      "5    81.998086      r2\n",
      "6    49.738213      pq\n",
      "7    20.875387      p3\n",
      "8   147.759405      q3\n",
      "9    34.365384      r3\n",
      "10   10.092668     p2q\n",
      "11   30.630941     pq2\n"
     ]
    }
   ],
   "source": [
    "vif(X_cub_train)"
   ]
  },
  {
   "cell_type": "markdown",
   "metadata": {
    "tags": []
   },
   "source": [
    "## Quartic function regression"
   ]
  },
  {
   "cell_type": "code",
   "execution_count": 26,
   "metadata": {},
   "outputs": [
    {
     "name": "stdout",
     "output_type": "stream",
     "text": [
      "Intercept: 0.040430109789934825\n",
      "Coeficients: [-2.10979902e-04 -1.01034613e-04 -2.31932629e-03  2.04795625e-05\n",
      "  1.31113039e-06  1.65841430e-04  1.14337285e-05 -1.40495599e-06\n",
      " -6.55426185e-09 -4.92021540e-06  1.09258695e-06 -9.41295917e-08\n",
      "  4.19440932e-08  1.19265500e-11  5.11827953e-08 -5.09427736e-08\n",
      " -3.25131488e-10  1.68809105e-10]\n",
      "Mean Absolute Error: 0.004115076136825547\n",
      "Mean Squared Error: 2.630170768972575e-05\n"
     ]
    }
   ],
   "source": [
    "qua_features = [\n",
    "    'p', 'q', 'r',\n",
    "    'p2', 'q2', 'r2', 'pq',\n",
    "    'p3', 'q3', 'r3', 'p2q', 'pq2',\n",
    "    'p4', 'q4', 'r4', 'p3q', 'p2q2', 'pq3'\n",
    "    ]\n",
    "X_qua_train = training_features[qua_features]\n",
    "X_qua_test = test_features[qua_features]\n",
    "\n",
    "run_regression(X_qua_train, X_qua_test, training_targets, test_targets)"
   ]
  },
  {
   "cell_type": "code",
   "execution_count": 27,
   "metadata": {},
   "outputs": [
    {
     "data": {
      "image/png": "[encoded data removed]",
      "text/plain": [
       "<Figure size 720x504 with 2 Axes>"
      ]
     },
     "metadata": {
      "needs_background": "light"
     },
     "output_type": "display_data"
    }
   ],
   "source": [
    "correlation(X_qua_train, \"Qua function\")"
   ]
  },
  {
   "cell_type": "code",
   "execution_count": 28,
   "metadata": {},
   "outputs": [
    {
     "name": "stdout",
     "output_type": "stream",
     "text": [
      "             VIF feature\n",
      "0      35.831386       p\n",
      "1      99.339546       q\n",
      "2      58.158973       r\n",
      "3     334.616491      p2\n",
      "4    2859.382355      q2\n",
      "5     604.061608      r2\n",
      "6     296.618767      pq\n",
      "7     930.784992      p3\n",
      "8   10584.228651      q3\n",
      "9    1319.131555      r3\n",
      "10    382.515718     p2q\n",
      "11   1036.933690     pq2\n",
      "12    309.498451      p4\n",
      "13   3605.712838      q4\n",
      "14    350.487380      r4\n",
      "15     59.494705     p3q\n",
      "16    122.531811    p2q2\n",
      "17    451.576836     pq3\n"
     ]
    }
   ],
   "source": [
    "vif(X_qua_train)"
   ]
  },
  {
   "cell_type": "markdown",
   "metadata": {
    "tags": []
   },
   "source": [
    "## Quintic function regression"
   ]
  },
  {
   "cell_type": "code",
   "execution_count": 29,
   "metadata": {},
   "outputs": [
    {
     "name": "stdout",
     "output_type": "stream",
     "text": [
      "Intercept: 0.038988050583477096\n",
      "Coeficients: [ 2.73452709e-04  7.69022102e-05 -3.22249183e-03  6.43770345e-05\n",
      " -1.79747632e-06  3.50127821e-04 -1.23817261e-05 -2.88424111e-06\n",
      "  5.91576673e-09 -1.93318856e-05 -6.48604231e-06  7.98548664e-07\n",
      " -1.87753585e-07  2.18593974e-11  5.08486844e-07  6.42796628e-07\n",
      "  1.98766825e-09 -5.08237988e-09  7.56223729e-09 -8.82511427e-14\n",
      " -4.90135508e-09 -1.54514292e-08 -7.38101914e-10  2.68544307e-11\n",
      "  9.36081253e-12]\n",
      "Mean Absolute Error: 0.00390874892506921\n",
      "Mean Squared Error: 2.399056248455771e-05\n"
     ]
    }
   ],
   "source": [
    "qui_features = [\n",
    "    'p', 'q', 'r',\n",
    "    'p2', 'q2', 'r2', 'pq',\n",
    "    'p3', 'q3', 'r3', 'p2q', 'pq2',\n",
    "    'p4', 'q4', 'r4', 'p3q', 'p2q2', 'pq3',\n",
    "    'p5', 'q5', 'r5', 'p4q', 'p3q2', 'p2q3', 'pq4'\n",
    "    ]\n",
    "X_qui_train = training_features[qui_features]\n",
    "X_qui_test = test_features[qui_features]\n",
    "\n",
    "run_regression(X_qui_train, X_qui_test, training_targets, test_targets)"
   ]
  },
  {
   "cell_type": "code",
   "execution_count": 30,
   "metadata": {},
   "outputs": [
    {
     "name": "stdout",
     "output_type": "stream",
     "text": [
      "              VIF feature\n",
      "0       73.629868       p\n",
      "1      202.351230       q\n",
      "2      134.433809       r\n",
      "3     1975.394363      p2\n",
      "4    14480.283950      q2\n",
      "5     2635.132297      r2\n",
      "6     1162.006977      pq\n",
      "7    19877.080442      p3\n",
      "8   146023.292913      q3\n",
      "9    18681.875732      r3\n",
      "10    4836.584569     p2q\n",
      "11   11439.820981     pq2\n",
      "12   40237.047978      p4\n",
      "13  253388.709121      q4\n",
      "14   26217.586326      r4\n",
      "15    5801.512764     p3q\n",
      "16    6366.440611    p2q2\n",
      "17   30595.800672     pq3\n",
      "18   10082.823305      p5\n",
      "19   54636.105284      q5\n",
      "20    4763.553702      r5\n",
      "21    1201.121846     p4q\n",
      "22     921.399035    p3q2\n",
      "23    1352.523526    p2q3\n",
      "24    9561.838332     pq4\n"
     ]
    }
   ],
   "source": [
    "vif(X_qui_train)"
   ]
  },
  {
   "cell_type": "markdown",
   "metadata": {
    "tags": []
   },
   "source": [
    "## Sextic fuction regression"
   ]
  },
  {
   "cell_type": "code",
   "execution_count": 31,
   "metadata": {},
   "outputs": [
    {
     "name": "stdout",
     "output_type": "stream",
     "text": [
      "Intercept: 0.03716302646065289\n",
      "Coeficients: [ 6.41521182e-04  4.26864527e-04 -4.16425862e-03  1.49566455e-04\n",
      " -1.14347869e-05  6.12884457e-04 -9.59479573e-05 -3.54045251e-05\n",
      "  1.39510813e-07 -4.87573975e-05  1.13575542e-05  1.51210086e-06\n",
      "  3.22956196e-06 -9.25921216e-10  2.01247903e-06 -1.22892966e-06\n",
      " -9.70097879e-08 -7.77024939e-09 -1.34380105e-07  3.16107259e-12\n",
      " -3.98682447e-08  7.20792845e-08  6.03178917e-09  2.29215937e-10\n",
      "  1.41926779e-11  2.04292170e-09 -4.24431834e-15  2.99071239e-10\n",
      " -1.50403822e-09 -1.34608366e-10 -9.15186712e-12 -4.41111039e-14\n",
      " -4.79289535e-15]\n",
      "Mean Absolute Error: 0.004105969677872586\n",
      "Mean Squared Error: 2.6720938066070715e-05\n"
     ]
    }
   ],
   "source": [
    "sex_features = [\n",
    "    'p', 'q', 'r',\n",
    "    'p2', 'q2', 'r2', 'pq',\n",
    "    'p3', 'q3', 'r3', 'p2q', 'pq2',\n",
    "    'p4', 'q4', 'r4', 'p3q', 'p2q2', 'pq3',\n",
    "    'p5', 'q5', 'r5', 'p4q', 'p3q2', 'p2q3', 'pq4',\n",
    "    'p6', 'q6', 'r6', 'p5q', 'p4q2', 'p3q3', 'p2q4', 'pq5'\n",
    "    ]\n",
    "X_sex_train = training_features[sex_features]\n",
    "X_sex_test = test_features[sex_features]\n",
    "\n",
    "run_regression(X_sex_train, X_sex_test, training_targets, test_targets)"
   ]
  },
  {
   "cell_type": "code",
   "execution_count": 32,
   "metadata": {},
   "outputs": [
    {
     "name": "stdout",
     "output_type": "stream",
     "text": [
      "             VIF feature\n",
      "0   1.853170e+02       p\n",
      "1   4.540508e+02       q\n",
      "2   1.447553e+02       r\n",
      "3   9.033878e+03      p2\n",
      "4   6.637748e+04      q2\n",
      "5   1.131838e+04      r2\n",
      "6   5.021280e+03      pq\n",
      "7   2.013800e+05      p3\n",
      "8   1.724533e+06      q3\n",
      "9   1.707620e+05      r3\n",
      "10  4.105683e+04     p2q\n",
      "11  9.200262e+04     pq2\n",
      "12  1.218757e+06      p4\n",
      "13  9.349136e+06      q4\n",
      "14  6.405601e+05      r4\n",
      "15  1.524305e+05     p3q\n",
      "16  1.298447e+05    p2q2\n",
      "17  5.693379e+05     pq3\n",
      "18  1.644294e+06      p5\n",
      "19  1.023832e+07      q5\n",
      "20  5.539205e+05      r5\n",
      "21  2.009893e+05     p4q\n",
      "22  8.529812e+04    p3q2\n",
      "23  1.926295e+05    p2q3\n",
      "24  9.108749e+05     pq4\n",
      "25  3.120474e+05      p6\n",
      "26  1.499423e+06      q6\n",
      "27  6.933823e+04      r6\n",
      "28  4.328958e+04     p5q\n",
      "29  1.332526e+04    p4q2\n",
      "30  7.112285e+03    p3q3\n",
      "31  4.606705e+04    p2q4\n",
      "32  2.162647e+05     pq5\n"
     ]
    }
   ],
   "source": [
    "vif(X_sex_train)"
   ]
  },
  {
   "cell_type": "markdown",
   "metadata": {},
   "source": [
    "# Regression with `curve_fit()`\n",
    "- Comparison with sklearn `LinRegression()`"
   ]
  },
  {
   "cell_type": "code",
   "execution_count": 12,
   "metadata": {},
   "outputs": [],
   "source": [
    "from polynomials import lin, sqr, cub, qua, qui, sex\n",
    "from scipy.optimize import curve_fit"
   ]
  },
  {
   "cell_type": "code",
   "execution_count": 43,
   "metadata": {},
   "outputs": [],
   "source": [
    "def polynomial_fit(X, X_test, y, y_test, poly):\n",
    "    \"\"\"\n",
    "    Use non-linear least squares to fit a polynomial to data.\n",
    "    \n",
    "    poly(x = (p, q, r), *params) = t0 + t1*p + t2*q + t3*r + ...\n",
    "    \n",
    "    t0 : Intercept\n",
    "    tj : Parameter j\n",
    "    \"\"\"\n",
    "    train_size = y.shape[0]\n",
    "    test_size = y_test.shape[0]\n",
    "    \n",
    "    # Train values\n",
    "    p = X['p'].to_numpy()\n",
    "    q = X['q'].to_numpy()\n",
    "    r = X['r'].to_numpy()\n",
    "    x = (p, q, r)\n",
    "    \n",
    "    # Test values\n",
    "    p_test = X_test['p'].to_numpy()\n",
    "    q_test = X_test['q'].to_numpy()\n",
    "    r_test = X_test['r'].to_numpy()\n",
    "    \n",
    "    # Uncertainty in data (equivalent to the weights)\n",
    "    sigma = np.zeros(train_size)\n",
    "    for i in range(train_size):\n",
    "        sigma[i] = 1.0 / (p[i]*q[i])\n",
    "    \n",
    "    popt, pcov = curve_fit(poly, x, y, sigma=sigma, absolute_sigma=True)\n",
    "    \n",
    "    print(f\"Intercept: {popt[0]}\\nCoeficients: {popt[1:]}\")\n",
    "    \n",
    "    # Compute prediction with optimal parameters\n",
    "    y_predict_data = []\n",
    "    for i in range(test_size):\n",
    "        x_test = (p_test[i], q_test[i], r_test[i])\n",
    "        y_predict_data.append(poly(x_test, *popt))\n",
    "    y_predict = np.array(y_predict_data)\n",
    "    \n",
    "    # Prediction errors\n",
    "    mae = mean_absolute_error(y_test, y_predict)\n",
    "    mse = mean_squared_error(y_test, y_predict)\n",
    "    \n",
    "    print(f\"\\nMean Absolute Error: {mae}\\nMean Squared Error: {mse}\")"
   ]
  },
  {
   "cell_type": "code",
   "execution_count": 44,
   "metadata": {},
   "outputs": [
    {
     "name": "stdout",
     "output_type": "stream",
     "text": [
      "Intercept: 0.03283872830640452\n",
      "Coeficients: [ 5.23189391e-04  2.14102641e-05 -6.30788061e-04]\n",
      "\n",
      "Mean Absolute Error: 0.004651749605877553\n",
      "Mean Squared Error: 3.59184675138702e-05\n"
     ]
    }
   ],
   "source": [
    "polynomial_fit(X_lin_train, X_lin_test, training_targets, test_targets, lin)"
   ]
  },
  {
   "cell_type": "raw",
   "metadata": {},
   "source": [
    "=================\n",
    "== LIN SKLEARN ==\n",
    "=================\n",
    "Intercept: 0.032247578568287236\n",
    "Coeficients: [ 5.24248737e-04  1.61682411e-05 -4.25473461e-04]\n",
    "\n",
    "Mean Absolute Error: 0.004231719071156759\n",
    "Mean Squared Error: 2.7985211329416176e-05"
   ]
  },
  {
   "cell_type": "code",
   "execution_count": 45,
   "metadata": {},
   "outputs": [
    {
     "name": "stdout",
     "output_type": "stream",
     "text": [
      "Intercept: 0.03637285674513599\n",
      "Coeficients: [ 9.41846213e-04 -1.48918468e-05 -1.49160634e-03 -3.08412629e-05\n",
      "  7.60278776e-08  3.87622941e-05  1.72102925e-06]\n",
      "\n",
      "Mean Absolute Error: 0.004471662044067248\n",
      "Mean Squared Error: 3.050252507743107e-05\n"
     ]
    }
   ],
   "source": [
    "polynomial_fit(X_sq_train, X_sq_test, training_targets, test_targets, sqr)"
   ]
  },
  {
   "cell_type": "raw",
   "metadata": {},
   "source": [
    "================\n",
    "== SQ SKLEARN ==\n",
    "================\n",
    "Intercept: 0.034335696489395516\n",
    "Coeficients: [ 5.49192941e-04  5.52856529e-06 -9.87686123e-04 -9.81183659e-06\n",
    "  1.06725323e-08  2.35285729e-05  1.70895013e-06]\n",
    "\n",
    "Mean Absolute Error: 0.004091407834348765\n",
    "Mean Squared Error: 2.531258781988644e-05"
   ]
  },
  {
   "cell_type": "code",
   "execution_count": 46,
   "metadata": {},
   "outputs": [
    {
     "name": "stdout",
     "output_type": "stream",
     "text": [
      "Intercept: 0.031277152577022536\n",
      "Coeficients: [ 1.37154963e-03  1.25066991e-04 -2.05459342e-03 -2.61510280e-05\n",
      " -7.47433115e-07  8.45231127e-05 -4.82591851e-06  1.05910393e-07\n",
      "  1.29773670e-09 -9.67820827e-07 -1.56091974e-07  3.05284631e-08]\n",
      "\n",
      "Mean Absolute Error: 0.006311099610576285\n",
      "Mean Squared Error: 6.020653246412104e-05\n"
     ]
    }
   ],
   "source": [
    "polynomial_fit(X_cub_train, X_cub_test, training_targets, test_targets, cub)"
   ]
  },
  {
   "cell_type": "raw",
   "metadata": {},
   "source": [
    "=================\n",
    "== CUB SKLEARN ==\n",
    "=================\n",
    "Intercept: 0.03781996606037328\n",
    "Coeficients: [-5.09613078e-05 -2.34855993e-05 -1.73214474e-03  2.02738340e-05\n",
    "  1.08165338e-08  8.48481749e-05  1.23822857e-05 -2.68940831e-07\n",
    "  1.76844551e-10 -1.16392202e-06 -4.26793941e-07 -1.60394373e-08]\n",
    "\n",
    "Mean Absolute Error: 0.003966238784395771\n",
    "Mean Squared Error: 2.4223111550462892e-05"
   ]
  },
  {
   "cell_type": "code",
   "execution_count": 47,
   "metadata": {},
   "outputs": [
    {
     "name": "stdout",
     "output_type": "stream",
     "text": [
      "Intercept: 0.05176043804913967\n",
      "Coeficients: [-2.94168374e-03 -3.99295958e-04 -1.89587424e-03  2.12199803e-04\n",
      "  4.11709486e-06  5.67512890e-05  6.28274365e-05 -6.66749422e-06\n",
      " -1.72087996e-08  2.10444896e-07 -7.59648489e-07 -4.12497533e-07\n",
      "  9.53799729e-08  2.67273577e-11 -1.44518652e-08 -3.74461496e-08\n",
      "  6.13197837e-09  7.09592355e-10]\n",
      "\n",
      "Mean Absolute Error: 0.008430926991850702\n",
      "Mean Squared Error: 0.00010324148942963138\n"
     ]
    }
   ],
   "source": [
    "polynomial_fit(X_qua_train, X_qua_test, training_targets, test_targets, qua)"
   ]
  },
  {
   "cell_type": "raw",
   "metadata": {},
   "source": [
    "=================\n",
    "== QUA SKLEARN ==\n",
    "=================\n",
    "Intercept: 0.040430109789934825\n",
    "Coeficients: [-2.10979902e-04 -1.01034613e-04 -2.31932629e-03  2.04795625e-05\n",
    "  1.31113039e-06  1.65841430e-04  1.14337285e-05 -1.40495599e-06\n",
    " -6.55426185e-09 -4.92021540e-06  1.09258695e-06 -9.41295917e-08\n",
    "  4.19440932e-08  1.19265500e-11  5.11827953e-08 -5.09427736e-08\n",
    " -3.25131488e-10  1.68809105e-10]\n",
    "Mean Absolute Error: 0.004115076136825547\n",
    "Mean Squared Error: 2.630170768972575e-05"
   ]
  },
  {
   "cell_type": "code",
   "execution_count": 48,
   "metadata": {},
   "outputs": [
    {
     "name": "stdout",
     "output_type": "stream",
     "text": [
      "Intercept: 0.04199951594683145\n",
      "Coeficients: [ 2.93140122e-03 -2.06664978e-04 -3.54530832e-03 -6.66063609e-04\n",
      "  3.74290769e-06  4.13475869e-04 -1.68429321e-05  6.72567174e-05\n",
      " -3.85713846e-08 -2.95141965e-05 -2.08851609e-06  6.83632353e-07\n",
      " -2.87185321e-06  1.83339070e-10  9.85090691e-07  2.92200365e-07\n",
      " -5.16355983e-09 -4.58058628e-09  4.22334686e-08 -3.05983562e-13\n",
      " -1.11917728e-08 -8.66826558e-09 -1.92810954e-10  2.41329614e-11\n",
      "  8.88303034e-12]\n",
      "\n",
      "Mean Absolute Error: 0.004809748897246877\n",
      "Mean Squared Error: 3.569473638802276e-05\n"
     ]
    }
   ],
   "source": [
    "polynomial_fit(X_qui_train, X_qui_test, training_targets, test_targets, qui)"
   ]
  },
  {
   "cell_type": "raw",
   "metadata": {},
   "source": [
    "=================\n",
    "== QUI SKLEARN ==\n",
    "=================\n",
    "Intercept: 0.038988050583477096\n",
    "Coeficients: [ 2.73452709e-04  7.69022102e-05 -3.22249183e-03  6.43770345e-05\n",
    " -1.79747632e-06  3.50127821e-04 -1.23817261e-05 -2.88424111e-06\n",
    "  5.91576673e-09 -1.93318856e-05 -6.48604231e-06  7.98548664e-07\n",
    " -1.87753585e-07  2.18593974e-11  5.08486844e-07  6.42796628e-07\n",
    "  1.98766825e-09 -5.08237988e-09  7.56223729e-09 -8.82511427e-14\n",
    " -4.90135508e-09 -1.54514292e-08 -7.38101914e-10  2.68544307e-11\n",
    "  9.36081253e-12]\n",
    "\n",
    "Mean Absolute Error: 0.00390874892506921\n",
    "Mean Squared Error: 2.399056248455771e-05"
   ]
  },
  {
   "cell_type": "code",
   "execution_count": 49,
   "metadata": {},
   "outputs": [
    {
     "name": "stdout",
     "output_type": "stream",
     "text": [
      "Intercept: 0.026769544418805562\n",
      "Coeficients: [-5.90638377e-03  2.08661657e-03 -4.68386111e-03  2.96387584e-03\n",
      " -5.44030992e-05  7.28643041e-04 -1.97162496e-04 -4.22153493e-04\n",
      "  6.15285830e-07 -6.63227379e-05 -9.43581217e-06  4.94810327e-06\n",
      "  2.68574899e-05 -3.61796445e-09  2.99652123e-06  2.27640075e-06\n",
      " -2.16619785e-07 -3.15015499e-08 -7.99166076e-07  1.07544919e-11\n",
      " -6.16721378e-08 -8.68999965e-08  2.08320425e-09  1.04943452e-09\n",
      "  8.28270143e-11  9.16470286e-09 -1.26359582e-14  4.64322409e-10\n",
      "  3.57968909e-10  1.49625684e-10 -2.52908922e-11 -7.60129414e-13\n",
      " -8.79757867e-14]\n",
      "\n",
      "Mean Absolute Error: 0.009249100858406557\n",
      "Mean Squared Error: 0.00012393989233264833\n"
     ]
    }
   ],
   "source": [
    "polynomial_fit(X_sex_train, X_sex_test, training_targets, test_targets, sex)"
   ]
  },
  {
   "cell_type": "raw",
   "metadata": {},
   "source": [
    "=================\n",
    "== SEX SKLEARN ==\n",
    "=================\n",
    "Intercept: 0.03716302646065289\n",
    "Coeficients: [ 6.41521182e-04  4.26864527e-04 -4.16425862e-03  1.49566455e-04\n",
    " -1.14347869e-05  6.12884457e-04 -9.59479573e-05 -3.54045251e-05\n",
    "  1.39510813e-07 -4.87573975e-05  1.13575542e-05  1.51210086e-06\n",
    "  3.22956196e-06 -9.25921216e-10  2.01247903e-06 -1.22892966e-06\n",
    " -9.70097879e-08 -7.77024939e-09 -1.34380105e-07  3.16107259e-12\n",
    " -3.98682447e-08  7.20792845e-08  6.03178917e-09  2.29215937e-10\n",
    "  1.41926779e-11  2.04292170e-09 -4.24431834e-15  2.99071239e-10\n",
    " -1.50403822e-09 -1.34608366e-10 -9.15186712e-12 -4.41111039e-14\n",
    " -4.79289535e-15]\n",
    "\n",
    "Mean Absolute Error: 0.004105969677872586\n",
    "Mean Squared Error: 2.6720938066070715e-05"
   ]
  },
  {
   "cell_type": "markdown",
   "metadata": {},
   "source": [
    "## PARECEM EQUIVALENTES!!"
   ]
  },
  {
   "cell_type": "markdown",
   "metadata": {
    "tags": []
   },
   "source": [
    "# Dealing with multicollinearity (in construction)\n",
    "Sophisticating the models with\n",
    "- **Ridge Regression** - regression with regularization.\n",
    "    - Adding bias to the estimates, this method reduces the standard errors.\n",
    "    - Tuning hyperparameter using grid search.\n",
    "- **Repeated 10-fold cross-validation** with three repetitions.\n",
    "    - Evaluating the performance of models."
   ]
  },
  {
   "cell_type": "code",
   "execution_count": 53,
   "metadata": {},
   "outputs": [],
   "source": [
    "from sklearn.linear_model import RidgeCV\n",
    "from sklearn.model_selection import RepeatedKFold"
   ]
  },
  {
   "cell_type": "code",
   "execution_count": 54,
   "metadata": {},
   "outputs": [],
   "source": [
    "def run_Ridge_regression(X, X_test, y, y_test):\n",
    "    # Compute the weights\n",
    "    w = (X['p'] * X['q'])\n",
    "    \n",
    "    # Define model evaluation method\n",
    "    cv = RepeatedKFold(n_splits=10, n_repeats=3, random_state=42)\n",
    "    \n",
    "    # Define model\n",
    "    ridge = RidgeCV(alphas=np.arange(0, 1, 0.01), cv=cv, scoring='neg_mean_absolute_error')\n",
    "    \n",
    "    # Fit model\n",
    "    ridge.fit(X, y, sample_weight=w)\n",
    "    \n",
    "    print(f\"Intercept: {ridge.intercept_}\\nCoeficients: {ridge.coef_}\")\n",
    "    \n",
    "    print(f\"==>CV\\nalpha: {ridge.alpha_}\\nBest estimator score (MAE): {ridge.best_score_}\")\n",
    "\n",
    "    # Predictions in test set\n",
    "    y_predict = ridge.predict(X_test)\n",
    "\n",
    "    # Prediction errors\n",
    "    mae = mean_absolute_error(y_test, y_predict)\n",
    "    mse = mean_squared_error(y_test, y_predict)\n",
    "\n",
    "    print(f\"==>TEST\\nMean Absolute Error: {mae}\\nMean Squared Error: {mse}\")"
   ]
  },
  {
   "cell_type": "code",
   "execution_count": 55,
   "metadata": {},
   "outputs": [
    {
     "name": "stdout",
     "output_type": "stream",
     "text": [
      "Intercept: 0.03224757877702118\n",
      "Coeficients: [ 5.24248668e-04  1.61682411e-05 -4.25473435e-04]\n",
      "==>CV\n",
      "alpha: 0.99\n",
      "Best estimator score (MAE): -0.004211788441586293\n",
      "==>TEST\n",
      "Mean Absolute Error: 0.0042317190072378216\n",
      "Mean Squared Error: 2.7985210136420167e-05\n"
     ]
    }
   ],
   "source": [
    "run_Ridge_regression(X_lin_train, X_lin_test, training_targets, test_targets)"
   ]
  },
  {
   "cell_type": "code",
   "execution_count": 45,
   "metadata": {},
   "outputs": [],
   "source": [
    "def vif_ridge(X, alpha):\n",
    "    \"\"\"variance inflation factor for Ridge regression\n",
    "    Adapted from:\n",
    "    https://stackoverflow.com/questions/23660120/variance-inflation-factor-in-ridge-regression-in-python\n",
    "    \n",
    "    OBS: As pointed out in the thread __It's the vif that is left after using Ridge\n",
    "                                        to work around the multicollinearity__\n",
    "    \"\"\"\n",
    "    aux_X = np.asarray(X)\n",
    "    corr = np.corrcoef(aux_X, rowvar=0)\n",
    "    \n",
    "    # Compute vif for ridge regression\n",
    "    eye = np.eye(corr.shape[1])\n",
    "    minv = np.linalg.inv(corr + alpha * eye)\n",
    "    vif_values = minv.dot(corr).dot(minv)\n",
    "    \n",
    "    # Transform vif to dataframe\n",
    "    vif = pd.DataFrame()\n",
    "    vif['VIF'] = np.diag(vif_values)\n",
    "    vif['feature'] = X.columns\n",
    "    \n",
    "    print(vif)"
   ]
  },
  {
   "cell_type": "code",
   "execution_count": 44,
   "metadata": {},
   "outputs": [
    {
     "name": "stdout",
     "output_type": "stream",
     "text": [
      "        VIF feature\n",
      "0  0.247803       p\n",
      "1  0.247809       q\n",
      "2  0.252488       r\n"
     ]
    }
   ],
   "source": [
    "vif_ridge(X_lin_train, 0.99)"
   ]
  },
  {
   "cell_type": "code",
   "execution_count": 46,
   "metadata": {},
   "outputs": [
    {
     "name": "stdout",
     "output_type": "stream",
     "text": [
      "Intercept: 0.03433569872836724\n",
      "Coeficients: [ 5.49192100e-04  5.52855557e-06 -9.87685837e-04 -9.81181281e-06\n",
      "  1.06725240e-08  2.35285626e-05  1.70895253e-06]\n",
      "==>CV\n",
      "alpha: 0.99\n",
      "Best estimator score (MAE): -0.00412075783918427\n",
      "==>TEST\n",
      "Mean Absolute Error: 0.004091407461296476\n",
      "Mean Squared Error: 2.5312582664309803e-05\n"
     ]
    }
   ],
   "source": [
    "run_Ridge_regression(X_sq_train, X_sq_test, training_targets, test_targets)"
   ]
  },
  {
   "cell_type": "code",
   "execution_count": 48,
   "metadata": {},
   "outputs": [
    {
     "name": "stdout",
     "output_type": "stream",
     "text": [
      "        VIF feature\n",
      "0  0.180470       p\n",
      "1  0.121124       q\n",
      "2  0.150012       r\n",
      "3  0.194301      p2\n",
      "4  0.126719      q2\n",
      "5  0.150013      r2\n",
      "6  0.155471      pq\n"
     ]
    }
   ],
   "source": [
    "vif_ridge(X_sq_train, 0.99)"
   ]
  },
  {
   "cell_type": "code",
   "execution_count": 49,
   "metadata": {},
   "outputs": [
    {
     "name": "stdout",
     "output_type": "stream",
     "text": [
      "Intercept: 0.03781995754167924\n",
      "Coeficients: [-5.09603811e-05 -2.34855794e-05 -1.73214239e-03  2.02737658e-05\n",
      "  1.08166335e-08  8.48480056e-05  1.23822761e-05 -2.68939495e-07\n",
      "  1.76844036e-10 -1.16391912e-06 -4.26793627e-07 -1.60394197e-08]\n",
      "==>CV\n",
      "alpha: 0.99\n",
      "Best estimator score (MAE): -0.004060530062186408\n",
      "==>TEST\n",
      "Mean Absolute Error: 0.003966238384586907\n",
      "Mean Squared Error: 2.4223106371197906e-05\n"
     ]
    }
   ],
   "source": [
    "run_Ridge_regression(X_cub_train, X_cub_test, training_targets, test_targets)"
   ]
  },
  {
   "cell_type": "code",
   "execution_count": 50,
   "metadata": {},
   "outputs": [
    {
     "name": "stdout",
     "output_type": "stream",
     "text": [
      "         VIF feature\n",
      "0   0.188731       p\n",
      "1   0.119838       q\n",
      "2   0.149809       r\n",
      "3   0.091926      p2\n",
      "4   0.063986      q2\n",
      "5   0.074791      r2\n",
      "6   0.067539      pq\n",
      "7   0.152243      p3\n",
      "8   0.097967      q3\n",
      "9   0.132872      r3\n",
      "10  0.150399     p2q\n",
      "11  0.077657     pq2\n"
     ]
    }
   ],
   "source": [
    "vif_ridge(X_cub_train, 0.99)"
   ]
  },
  {
   "cell_type": "code",
   "execution_count": null,
   "metadata": {},
   "outputs": [],
   "source": [
    "run_Ridge_regression(X_qua_train, X_qua_test, training_targets, test_targets)"
   ]
  }
 ],
 "metadata": {
  "kernelspec": {
   "display_name": "Python 3 (ipykernel)",
   "language": "python",
   "name": "python3"
  },
  "language_info": {
   "codemirror_mode": {
    "name": "ipython",
    "version": 3
   },
   "file_extension": ".py",
   "mimetype": "text/x-python",
   "name": "python",
   "nbconvert_exporter": "python",
   "pygments_lexer": "ipython3",
   "version": "3.9.12"
  },
  "vscode": {
   "interpreter": {
    "hash": "8558656173fd5c134605b107ac9d747661c764a417664061aa80d0ec60ca8377"
   }
  }
 },
 "nbformat": 4,
 "nbformat_minor": 4
}
